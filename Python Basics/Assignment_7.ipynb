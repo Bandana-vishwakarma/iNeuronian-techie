{
 "cells": [
  {
   "cell_type": "markdown",
   "id": "5620d60f",
   "metadata": {},
   "source": [
    "<b>Qus.1:</b>What is the name of the feature responsible for generating Regex objects?"
   ]
  },
  {
   "cell_type": "markdown",
   "id": "038dbe27",
   "metadata": {},
   "source": [
    "<b>Ans:</b>compile() method of re module is responsible for generating the Regex object for a regular expression.\n",
    "\n",
    "re.compile()"
   ]
  },
  {
   "cell_type": "markdown",
   "id": "8a9a5a3d",
   "metadata": {},
   "source": [
    "<b>Qus.2:</b>Why do raw strings often appear in Regex objects?"
   ]
  },
  {
   "cell_type": "markdown",
   "id": "cb07aa2d",
   "metadata": {},
   "source": [
    "<b>Ans:</b>Raw strings makes python not trigger interpretation of string based on the special meaning of some of characters like \\ specified in python.\n",
    "\n",
    "We do it because regular expression uses a lot of these special characters for pattern matching.\n",
    "\n",
    "To declare a string as a raw string we simply put an r in front of the normal string."
   ]
  },
  {
   "cell_type": "markdown",
   "id": "40c0caa6",
   "metadata": {},
   "source": [
    "<b>Qus.3:</b>What is the return value of the search() method?"
   ]
  },
  {
   "cell_type": "markdown",
   "id": "4790a064",
   "metadata": {},
   "source": [
    "<b>Ans:</b> re.search(pattern, string) returns:\n",
    "\n",
    "* If the pattern matches then it returns the match object\n",
    "* if the pattern not matches it returns None"
   ]
  },
  {
   "cell_type": "markdown",
   "id": "8a81a149",
   "metadata": {},
   "source": [
    "<b>Qus.4:</b>From a Match item, how do you get the actual strings that match the pattern?"
   ]
  },
  {
   "cell_type": "markdown",
   "id": "3bab0c2d",
   "metadata": {},
   "source": [
    "<b>Ans:</b>\n",
    "* Import the regex module with import re.\n",
    "* Create a Regex object with the re.\n",
    "* Pass the string you want to search into the Regex object's search() method.\n",
    "* Call the Match object's group() method to return a string of the actual matched text."
   ]
  },
  {
   "cell_type": "code",
   "execution_count": 21,
   "id": "2771492c",
   "metadata": {},
   "outputs": [
    {
     "name": "stdout",
     "output_type": "stream",
     "text": [
      "<re.Match object; span=(24, 33), match='123456789'>\n"
     ]
    }
   ],
   "source": [
    "import re\n",
    "\n",
    "test_String = 'Hi my phone number is - 123456789 '\n",
    "pattern = re.compile(r'([1-9])+')\n",
    "\n",
    "matches = pattern.finditer(test_String)\n",
    "\n",
    "for match in matches:\n",
    "    print(match)"
   ]
  },
  {
   "cell_type": "code",
   "execution_count": 5,
   "id": "672a8337",
   "metadata": {},
   "outputs": [
    {
     "data": {
      "text/plain": [
       "'123456789'"
      ]
     },
     "execution_count": 5,
     "metadata": {},
     "output_type": "execute_result"
    }
   ],
   "source": [
    "test_String[24:33] "
   ]
  },
  {
   "cell_type": "markdown",
   "id": "2936f449",
   "metadata": {},
   "source": [
    "<b>Qus.5:</b>In the regex which created from the r&#39;(\\d\\d\\d)-(\\d\\d\\d-\\d\\d\\d\\d)&#39;, what does group zero cover?\n",
    "Group 2? Group 1?"
   ]
  },
  {
   "cell_type": "markdown",
   "id": "63a50a67",
   "metadata": {},
   "source": [
    "<b>Ans:</b>\n",
    "* Group 0 covers entire pattern\n",
    "* Group 1 covers second from left braces (\\d\\d\\d)\n",
    "* Group 2 covers third from left braces (\\d\\d\\d)"
   ]
  },
  {
   "cell_type": "code",
   "execution_count": 6,
   "id": "dcca9b7f",
   "metadata": {},
   "outputs": [],
   "source": [
    "import re\n",
    "\n",
    "pattern = re.compile(r'(\\d\\d\\d)-(\\d\\d\\d)-(\\d\\d\\d)')\n",
    "\n",
    "test_String = 'My number is 123-456-789'\n",
    "\n",
    "number = re.search(pattern, test_String)\n"
   ]
  },
  {
   "cell_type": "code",
   "execution_count": 7,
   "id": "0b390e41",
   "metadata": {},
   "outputs": [
    {
     "data": {
      "text/plain": [
       "('123', '456', '789')"
      ]
     },
     "execution_count": 7,
     "metadata": {},
     "output_type": "execute_result"
    }
   ],
   "source": [
    "number.groups()"
   ]
  },
  {
   "cell_type": "code",
   "execution_count": 10,
   "id": "0d6553bd",
   "metadata": {},
   "outputs": [
    {
     "data": {
      "text/plain": [
       "'123'"
      ]
     },
     "execution_count": 10,
     "metadata": {},
     "output_type": "execute_result"
    }
   ],
   "source": [
    "number.group(1)"
   ]
  },
  {
   "cell_type": "code",
   "execution_count": 9,
   "id": "82a1c8ed",
   "metadata": {},
   "outputs": [
    {
     "data": {
      "text/plain": [
       "'456'"
      ]
     },
     "execution_count": 9,
     "metadata": {},
     "output_type": "execute_result"
    }
   ],
   "source": [
    "number.group(2)"
   ]
  },
  {
   "cell_type": "markdown",
   "id": "b2c3607a",
   "metadata": {},
   "source": [
    "<b>Qus.6:</b>In standard expression syntax, parentheses and intervals have distinct meanings. How can you tell\n",
    "a regex that you want it to fit real parentheses and periods?"
   ]
  },
  {
   "cell_type": "markdown",
   "id": "55cf878d",
   "metadata": {},
   "source": [
    "<b>Ans:</b> \\ is an escape character so we can use it before these special meaning having symbols in regex to actually search for them.\n",
    "\n",
    "Like  \\. or \\\\ or \\( and so on"
   ]
  },
  {
   "cell_type": "markdown",
   "id": "d14b48b1",
   "metadata": {},
   "source": [
    "<b>Qus.7:</b>The findall() method returns a string list or a list of string tuples. What causes it to return one of\n",
    "the two options?"
   ]
  },
  {
   "cell_type": "markdown",
   "id": "e3a67c99",
   "metadata": {},
   "source": [
    "<b>Ans:</b> If the regex pattern has no groups, a list of strings matched is returned. if the regex pattern has groups, a list of tuple of strings is returned."
   ]
  },
  {
   "cell_type": "code",
   "execution_count": 13,
   "id": "ccd3d191",
   "metadata": {},
   "outputs": [],
   "source": [
    "import re\n",
    "\n",
    "pattern1 = re.compile(r'(\\d\\d\\d)-(\\d\\d\\d)-(\\d\\d\\d)')\n",
    "\n",
    "pattern2 = re.compile(r'\\d{3}-\\d{3}-\\d{3}')\n",
    "\n",
    "\n",
    "test_String = 'My number is 123-456-789'\n",
    "\n",
    "\n",
    "\n",
    "number1 = re.findall(pattern1, test_String)\n",
    "number2 = re.findall(pattern2, test_String)"
   ]
  },
  {
   "cell_type": "code",
   "execution_count": 14,
   "id": "225fc4c8",
   "metadata": {},
   "outputs": [
    {
     "data": {
      "text/plain": [
       "[('123', '456', '789')]"
      ]
     },
     "execution_count": 14,
     "metadata": {},
     "output_type": "execute_result"
    }
   ],
   "source": [
    "number1"
   ]
  },
  {
   "cell_type": "code",
   "execution_count": 15,
   "id": "426077cd",
   "metadata": {},
   "outputs": [
    {
     "data": {
      "text/plain": [
       "['123-456-789']"
      ]
     },
     "execution_count": 15,
     "metadata": {},
     "output_type": "execute_result"
    }
   ],
   "source": [
    "number2"
   ]
  },
  {
   "cell_type": "markdown",
   "id": "267167c1",
   "metadata": {},
   "source": [
    "<b>Qus.8:</b>In standard expressions, what does the | character mean?"
   ]
  },
  {
   "cell_type": "markdown",
   "id": "8c7988d0",
   "metadata": {},
   "source": [
    "<b>Ans:</b> <b> | </b> means <b>or</b> in standard regular expression."
   ]
  },
  {
   "cell_type": "markdown",
   "id": "c5f9a46a",
   "metadata": {},
   "source": [
    "<b>Qus.9:</b>In regular expressions, what does the ? character stand for?"
   ]
  },
  {
   "cell_type": "markdown",
   "id": "30c02dfb",
   "metadata": {},
   "source": [
    "<b>Ans:</b>? in regular expression means 0 or one match after the preceding group."
   ]
  },
  {
   "cell_type": "markdown",
   "id": "61a7e3b3",
   "metadata": {},
   "source": [
    "<b>Qus.10:</b>In regular expressions, what is the difference between the + and * characters?"
   ]
  },
  {
   "cell_type": "markdown",
   "id": "91c7b5f9",
   "metadata": {},
   "source": [
    "<b>Ans:</b>\n",
    "* <b>+</b> represents 1 or more matches after the preceding group.\n",
    "\n",
    "* <b>*</b> represents 0 or more matches after the preceding group."
   ]
  },
  {
   "cell_type": "markdown",
   "id": "5c8270de",
   "metadata": {},
   "source": [
    "<b>Qus.11:</b>What is the difference between {4} and {4,5} in regular expression?"
   ]
  },
  {
   "cell_type": "markdown",
   "id": "8baa67c8",
   "metadata": {},
   "source": [
    "<b>Ans:</b>\n",
    "* {4} means repeat the preceding group 4 times\n",
    "* {4,5} means repeat the preceding group minimum 4 times and maximum 5 times."
   ]
  },
  {
   "cell_type": "markdown",
   "id": "1977398e",
   "metadata": {},
   "source": [
    "<b>Qus.12:</b>What do you mean by the \\d, \\w, and \\s shorthand character classes signify in regular\n",
    "expressions?"
   ]
  },
  {
   "cell_type": "markdown",
   "id": "01bbebdf",
   "metadata": {},
   "source": [
    "<b>Ans:</b>\n",
    "* \\d represents [0-9]\n",
    "* \\w represents [a-zA-z0-9_]\n",
    "* \\s represents space, tab, newline etc"
   ]
  },
  {
   "cell_type": "markdown",
   "id": "3f9e636a",
   "metadata": {},
   "source": [
    "<b>Qus.13:</b>What do means by \\D, \\W, and \\S shorthand character classes signify in regular expressions?"
   ]
  },
  {
   "cell_type": "markdown",
   "id": "aa6b2f78",
   "metadata": {},
   "source": [
    "<b>Ans:</b>\n",
    "The basically represent negates of the small case shorthand version of themselves.\n",
    "* \\D represents any non-digit character [^0-9]\n",
    "* \\W represent non-alphanumeric characters [^a-zA-z09_]\n",
    "* \\S  represents any non-white space"
   ]
  },
  {
   "cell_type": "markdown",
   "id": "d0510536",
   "metadata": {},
   "source": [
    "<b>Qus.14</b>What is the difference between .*? and .*?"
   ]
  },
  {
   "cell_type": "markdown",
   "id": "00acc43c",
   "metadata": {},
   "source": [
    "<b>Ans:</b>\n",
    "* <b>.*</b>returns the shortest string that meets the condition\n",
    "* <b>*</b>returns the longest string that meets the condition (greedy mode)"
   ]
  },
  {
   "cell_type": "markdown",
   "id": "5610d81d",
   "metadata": {},
   "source": [
    "<b>Qus.15:</b>What is the syntax for matching both numbers and lowercase letters with a character class?"
   ]
  },
  {
   "cell_type": "markdown",
   "id": "e9f587a3",
   "metadata": {},
   "source": [
    "<b>Ans:</b> [a-z0-9]"
   ]
  },
  {
   "cell_type": "markdown",
   "id": "7e509362",
   "metadata": {},
   "source": [
    "<b>Qus.16:</b>What is the procedure for making a normal expression in regax case insensitive?"
   ]
  },
  {
   "cell_type": "markdown",
   "id": "b1f1f34d",
   "metadata": {},
   "source": [
    "<b>Ans:</b> pass the parameter <b>re.IGNORECASE</b> to the <b>re.compile</b> method"
   ]
  },
  {
   "cell_type": "markdown",
   "id": "72088551",
   "metadata": {},
   "source": [
    "<b>Qus.17:</b>What does the . character normally match? What does it match if re.DOTALL is passed as 2nd\n",
    "argument in re.compile()?"
   ]
  },
  {
   "cell_type": "markdown",
   "id": "0e762697",
   "metadata": {},
   "source": [
    "<b>Ans:</b> <b>Dot</b> or <b>.</b> character matches everything except newline.\n",
    "\n",
    "But when we pass re.DOTALL to re.compile() method it matches everything including the newline character."
   ]
  },
  {
   "cell_type": "markdown",
   "id": "c60e403c",
   "metadata": {},
   "source": [
    "<b>Qus.18:</b>If numReg = re.compile(r'\\d+'), what will numRegex.sub('X', '11 drummers, 10 pipers, five rings, 4\n",
    "hen') return?"
   ]
  },
  {
   "cell_type": "code",
   "execution_count": 16,
   "id": "02c2dee8",
   "metadata": {},
   "outputs": [
    {
     "data": {
      "text/plain": [
       "'X drummers, X pipers, five rings, X hen'"
      ]
     },
     "execution_count": 16,
     "metadata": {},
     "output_type": "execute_result"
    }
   ],
   "source": [
    "import re\n",
    "numReg = re.compile(r'\\d+')\n",
    "numReg.sub('X', '11 drummers, 10 pipers, five rings, 4 hen')"
   ]
  },
  {
   "cell_type": "markdown",
   "id": "e132f569",
   "metadata": {},
   "source": [
    "<b>Qus.19:</b>What does passing re.VERBOSE as the 2nd argument to re.compile() allow to do?"
   ]
  },
  {
   "cell_type": "markdown",
   "id": "c2988963",
   "metadata": {},
   "source": [
    "<b>Ans:</b> re.VERBOSE will allow to add whitespace and comments to string passed to re.compile()"
   ]
  },
  {
   "cell_type": "markdown",
   "id": "f8b41607",
   "metadata": {},
   "source": [
    "<b>Qus.20:</b> How would you write a regex that match a number with comma for every three digits? It must\n",
    "match the given following:\n",
    "\n",
    "'42'\n",
    "\n",
    "'1,234'\n",
    "\n",
    "'6,368,745'\n",
    "\n",
    "but not the following:\n",
    "\n",
    "'12,34,567' (which has only two digits between the commas)\n",
    "\n",
    "'1234' (which lacks commas)"
   ]
  },
  {
   "cell_type": "code",
   "execution_count": 22,
   "id": "f05b60c7",
   "metadata": {},
   "outputs": [
    {
     "name": "stdout",
     "output_type": "stream",
     "text": [
      "42 <re.Match object; span=(0, 2), match='42'>\n",
      "1,234 <re.Match object; span=(0, 5), match='1,234'>\n",
      "6,368,745 <re.Match object; span=(0, 9), match='6,368,745'>\n",
      "12,34,567 None\n",
      "1234 None\n"
     ]
    }
   ],
   "source": [
    "import re\n",
    "pattern = re.compile(r'^\\d{1,3}(,\\d{3})*$')\n",
    "for element in ['42','1,234', '6,368,745','12,34,567','1234']:\n",
    "    print(element, pattern.search(element))\n"
   ]
  },
  {
   "cell_type": "markdown",
   "id": "39e2f58e",
   "metadata": {},
   "source": [
    "<b>Qus.21:</b> How would you write a regex that matches the full name of someone whose last name is Watanabe? You can assume that the first name that comes before it will always be one word that begins with a capital letter. The regex must match the following: 'Haruto Watanabe' 'Alice Watanabe' 'RoboCop Watanabe' but not the following: 'haruto Watanabe' (where the first name is not capitalized) 'Mr. Watanabe' (where the preceding word has a nonletter character) 'Watanabe' (which has no first name) 'Haruto watanabe' (where Watanabe is not capitalized)"
   ]
  },
  {
   "cell_type": "code",
   "execution_count": 23,
   "id": "cb59555e",
   "metadata": {},
   "outputs": [
    {
     "name": "stdout",
     "output_type": "stream",
     "text": [
      "Haruto Watanabe <re.Match object; span=(0, 15), match='Haruto Watanabe'>\n",
      "Alice Watanabe <re.Match object; span=(0, 14), match='Alice Watanabe'>\n",
      "RoboCop Watanabe <re.Match object; span=(4, 16), match='Cop Watanabe'>\n",
      "haruto Watanabe None\n",
      "Mr. Watanabe None\n",
      "Watanabe None\n",
      "Haruto watanabe None\n"
     ]
    }
   ],
   "source": [
    "import re\n",
    "\n",
    "namex = re.compile(r'[A-Z]{1}[a-z]+\\sWatanabe')\n",
    "for name in ['Haruto Watanabe','Alice Watanabe','RoboCop Watanabe','haruto Watanabe','Mr. Watanabe','Watanabe','Haruto watanabe']:\n",
    "    print(name, namex.search(name))\n"
   ]
  },
  {
   "cell_type": "markdown",
   "id": "be9ad283",
   "metadata": {},
   "source": [
    "<b>Qus.22:</b> How would you write a regex that matches a sentence where the first word is either Alice, Bob, or Carol; the second word is either eats, pets, or throws; the third word is apples, cats, or baseballs; and the sentence ends with a period? This regex should be case-insensitive. It must match the following: 'Alice eats apples.' 'Bob pets cats.' 'Carol throws baseballs.' 'Alice throws Apples.' 'BOB EATS CATS.' but not the following: 'RoboCop eats apples.' 'ALICE THROWS FOOTBALLS.' 'Carol eats 7 cats.'"
   ]
  },
  {
   "cell_type": "code",
   "execution_count": 24,
   "id": "790716c2",
   "metadata": {},
   "outputs": [
    {
     "name": "stdout",
     "output_type": "stream",
     "text": [
      "Alice eats apples. -> <re.Match object; span=(0, 17), match='Alice eats apples'>\n",
      "Bob pets cats. -> <re.Match object; span=(0, 13), match='Bob pets cats'>\n",
      "Carol throws baseballs. -> <re.Match object; span=(0, 22), match='Carol throws baseballs'>\n",
      "Alice throws Apples. -> <re.Match object; span=(0, 19), match='Alice throws Apples'>\n",
      "BOB EATS CATS. -> <re.Match object; span=(0, 13), match='BOB EATS CATS'>\n",
      "RoboCop eats apples. -> None\n",
      "ALICE THROWS FOOTBALLS. -> None\n",
      "Carol eats 7 cats. -> None\n"
     ]
    }
   ],
   "source": [
    "\n",
    "import re\n",
    "\n",
    "wordx = re.compile(r'(Alice|Bob|Carol)\\s(Eats|Pets|Throws)\\s(Apples|Cats|Baseballs)', re.IGNORECASE)\n",
    "\n",
    "for word in ['Alice eats apples.','Bob pets cats.','Carol throws baseballs.','Alice throws Apples.','BOB EATS CATS.','RoboCop eats apples.'\n",
    ",'ALICE THROWS FOOTBALLS.','Carol eats 7 cats.']:\n",
    "    print(word,'->', wordx.search(word))\n",
    "\n"
   ]
  }
 ],
 "metadata": {
  "kernelspec": {
   "display_name": "Python 3 (ipykernel)",
   "language": "python",
   "name": "python3"
  },
  "language_info": {
   "codemirror_mode": {
    "name": "ipython",
    "version": 3
   },
   "file_extension": ".py",
   "mimetype": "text/x-python",
   "name": "python",
   "nbconvert_exporter": "python",
   "pygments_lexer": "ipython3",
   "version": "3.9.12"
  }
 },
 "nbformat": 4,
 "nbformat_minor": 5
}
