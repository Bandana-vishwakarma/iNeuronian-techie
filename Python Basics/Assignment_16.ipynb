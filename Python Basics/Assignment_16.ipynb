{
 "cells": [
  {
   "cell_type": "markdown",
   "id": "150932ce",
   "metadata": {},
   "source": [
    "<b>Q.1:</b> Create a list called years_list, starting with the year of your birth, and each year thereafter until\n",
    "the year of your fifth birthday. For example, if you were born in 1980. the list would be years_list =\n",
    "[1980, 1981, 1982, 1983, 1984, 1985]."
   ]
  },
  {
   "cell_type": "code",
   "execution_count": 63,
   "id": "ae4958d4",
   "metadata": {},
   "outputs": [],
   "source": [
    "years_list = [2000, 2001, 2002, 2003, 2004, 2005]"
   ]
  },
  {
   "cell_type": "markdown",
   "id": "54cb6bf8",
   "metadata": {},
   "source": [
    "<b>Q.2:</b> In which year in years_list was your third birthday? Remember, you were 0 years of age for your\n",
    "first year."
   ]
  },
  {
   "cell_type": "code",
   "execution_count": 64,
   "id": "7f32ff3d",
   "metadata": {},
   "outputs": [
    {
     "data": {
      "text/plain": [
       "2003"
      ]
     },
     "execution_count": 64,
     "metadata": {},
     "output_type": "execute_result"
    }
   ],
   "source": [
    "years_list[3]"
   ]
  },
  {
   "cell_type": "markdown",
   "id": "ce62b678",
   "metadata": {},
   "source": [
    "<b>Q.3:</b> In the years list, which year were you the oldest?"
   ]
  },
  {
   "cell_type": "code",
   "execution_count": 81,
   "id": "87bc013c",
   "metadata": {},
   "outputs": [
    {
     "data": {
      "text/plain": [
       "2005"
      ]
     },
     "execution_count": 81,
     "metadata": {},
     "output_type": "execute_result"
    }
   ],
   "source": [
    "years_list[-1]"
   ]
  },
  {
   "cell_type": "markdown",
   "id": "e3f43733",
   "metadata": {},
   "source": [
    "<b>Q.4:</b> Make a list called things with these three strings as elements: \"mozzarella\", \"cinderella\",\n",
    "\"salmonella\"."
   ]
  },
  {
   "cell_type": "code",
   "execution_count": 66,
   "id": "05a56a43",
   "metadata": {},
   "outputs": [],
   "source": [
    "things = [\"mozzarella\", \"cinderella\", \"salmonella\"]"
   ]
  },
  {
   "cell_type": "markdown",
   "id": "f58ffbe7",
   "metadata": {},
   "source": [
    "<b>Q.5:</b> Capitalize the element in things that refers to a person and then print the list. Did it change the\n",
    "element in the list?"
   ]
  },
  {
   "cell_type": "code",
   "execution_count": 67,
   "id": "62745d0c",
   "metadata": {},
   "outputs": [
    {
     "data": {
      "text/plain": [
       "['mozzarella', 'Cinderella', 'salmonella']"
      ]
     },
     "execution_count": 67,
     "metadata": {},
     "output_type": "execute_result"
    }
   ],
   "source": [
    "things.insert(1, things[1].capitalize())\n",
    "things.remove(things[1].lower())\n",
    "things"
   ]
  },
  {
   "cell_type": "markdown",
   "id": "72a09242",
   "metadata": {},
   "source": [
    "<b>Q.6:</b> Make a surprise list with the elements \"Groucho,\" \"Chico,\" and \"Harpo\""
   ]
  },
  {
   "cell_type": "code",
   "execution_count": 68,
   "id": "760af6c5",
   "metadata": {},
   "outputs": [],
   "source": [
    "surpriseList = [\"Groucho,\" \"Chico,\"  \"Harpo\"]"
   ]
  },
  {
   "cell_type": "markdown",
   "id": "9f6ce469",
   "metadata": {},
   "source": [
    "<b>Q.7:</b> Lowercase the last element of the surprise list, reverse it, and then capitalize it."
   ]
  },
  {
   "cell_type": "code",
   "execution_count": 69,
   "id": "e34a45e4",
   "metadata": {},
   "outputs": [
    {
     "name": "stdout",
     "output_type": "stream",
     "text": [
      "groucho,chico,harpo\n"
     ]
    }
   ],
   "source": [
    "element = surpriseList[-1].lower()\n",
    "print(element)"
   ]
  },
  {
   "cell_type": "code",
   "execution_count": 70,
   "id": "cfb48299",
   "metadata": {},
   "outputs": [
    {
     "name": "stdout",
     "output_type": "stream",
     "text": [
      "oprah,ocihc,ohcuorg\n"
     ]
    }
   ],
   "source": [
    "element = element[::-1]\n",
    "print(element)"
   ]
  },
  {
   "cell_type": "code",
   "execution_count": 71,
   "id": "c8407c02",
   "metadata": {},
   "outputs": [
    {
     "name": "stdout",
     "output_type": "stream",
     "text": [
      "Oprah,ocihc,ohcuorg\n"
     ]
    }
   ],
   "source": [
    "element = element.capitalize() \n",
    "print(element)"
   ]
  },
  {
   "cell_type": "markdown",
   "id": "6e1cea6c",
   "metadata": {},
   "source": [
    "<b>Q.8:</b> Make an English-to-French dictionary called e2f and print it. Here are your starter words: dog is\n",
    "chien, cat is chat, and walrus is morse."
   ]
  },
  {
   "cell_type": "code",
   "execution_count": 72,
   "id": "ab2ad45e",
   "metadata": {},
   "outputs": [
    {
     "name": "stdout",
     "output_type": "stream",
     "text": [
      "{'dog': 'chien', 'cat': 'chat', 'walrus': 'morse'}\n"
     ]
    }
   ],
   "source": [
    "e2f = {\"dog\" : \"chien\", \"cat\" : \"chat\",  \"walrus\" : \"morse\"}\n",
    "print(e2f)"
   ]
  },
  {
   "cell_type": "markdown",
   "id": "058b26e7",
   "metadata": {},
   "source": [
    "<b>Q.9:</b> Write the French word for walrus in your three-word dictionary e2f."
   ]
  },
  {
   "cell_type": "code",
   "execution_count": 73,
   "id": "cc2b2aac",
   "metadata": {},
   "outputs": [
    {
     "data": {
      "text/plain": [
       "'morse'"
      ]
     },
     "execution_count": 73,
     "metadata": {},
     "output_type": "execute_result"
    }
   ],
   "source": [
    "e2f[\"walrus\"]"
   ]
  },
  {
   "cell_type": "markdown",
   "id": "08412bfb",
   "metadata": {},
   "source": [
    "<b>Q.10:</b> Make a French-to-English dictionary called f2e from e2f. Use the items method."
   ]
  },
  {
   "cell_type": "code",
   "execution_count": 74,
   "id": "d8565d0a",
   "metadata": {},
   "outputs": [
    {
     "name": "stdout",
     "output_type": "stream",
     "text": [
      "{'chien': 'dog', 'chat': 'cat', 'morse': 'walrus'}\n"
     ]
    }
   ],
   "source": [
    "f2e = {}\n",
    "\n",
    "for words in e2f.items():\n",
    "        f2e[words[1]] = words[0]\n",
    "        \n",
    "print(f2e)"
   ]
  },
  {
   "cell_type": "markdown",
   "id": "cf9d6fcb",
   "metadata": {},
   "source": [
    "<b>Q.11:</b> Print the English version of the French word chien using f2e."
   ]
  },
  {
   "cell_type": "code",
   "execution_count": 75,
   "id": "a19a006b",
   "metadata": {},
   "outputs": [
    {
     "data": {
      "text/plain": [
       "'dog'"
      ]
     },
     "execution_count": 75,
     "metadata": {},
     "output_type": "execute_result"
    }
   ],
   "source": [
    "f2e[\"chien\"]"
   ]
  },
  {
   "cell_type": "markdown",
   "id": "c7231d00",
   "metadata": {},
   "source": [
    "<b>Q.12:</b> Make and print a set of English words from the keys in e2f."
   ]
  },
  {
   "cell_type": "code",
   "execution_count": 76,
   "id": "223a5f33",
   "metadata": {},
   "outputs": [
    {
     "data": {
      "text/plain": [
       "dict_keys(['dog', 'cat', 'walrus'])"
      ]
     },
     "execution_count": 76,
     "metadata": {},
     "output_type": "execute_result"
    }
   ],
   "source": [
    "e2f.keys()"
   ]
  },
  {
   "cell_type": "markdown",
   "id": "d42ecf23",
   "metadata": {},
   "source": [
    "<b>Q.13:</b> Make a multilevel dictionary called life. Use these strings for the topmost keys: \"animals\", \"plants\",\n",
    "and \"other\". Make the \"animals\" key refer to another dictionary with the keys \"cats\", \"octopi\", and\n",
    "\"emus\". Make the \"cats\" key refer to a list of strings with the values \"Henri\", \"Grumpy\", and \"Lucy\".\n",
    "Make all the other keys refer to empty dictionaries. "
   ]
  },
  {
   "cell_type": "code",
   "execution_count": 77,
   "id": "402d523d",
   "metadata": {},
   "outputs": [],
   "source": [
    "life = { \"animals\":{\"cats\":[ \"Henri\", \"Grumpy\", \"Lucy\"],\"octopi\":{}, \"emus\":{}}, \"plants\":{}, \"other\":{}}"
   ]
  },
  {
   "cell_type": "markdown",
   "id": "481adc64",
   "metadata": {},
   "source": [
    "<b>Q.14:</b> Print the top-level keys of life."
   ]
  },
  {
   "cell_type": "code",
   "execution_count": 78,
   "id": "84ea70a2",
   "metadata": {},
   "outputs": [
    {
     "name": "stdout",
     "output_type": "stream",
     "text": [
      "animals\n",
      "plants\n",
      "other\n"
     ]
    }
   ],
   "source": [
    "for toplevelkeys in life.keys():\n",
    "    print(toplevelkeys)"
   ]
  },
  {
   "cell_type": "markdown",
   "id": "17ce3add",
   "metadata": {},
   "source": [
    "<B>Q.15:</B> Print the keys for life[\"animals\"]."
   ]
  },
  {
   "cell_type": "code",
   "execution_count": 79,
   "id": "37651f22",
   "metadata": {},
   "outputs": [
    {
     "name": "stdout",
     "output_type": "stream",
     "text": [
      "cats\n",
      "octopi\n",
      "emus\n"
     ]
    }
   ],
   "source": [
    "for keys in life[\"animals\"].keys():\n",
    "    print(keys)"
   ]
  },
  {
   "cell_type": "markdown",
   "id": "9ee479b7",
   "metadata": {},
   "source": [
    "<b>Q.16:</b> Print the values for life[\"animals\"][\"cats\"]"
   ]
  },
  {
   "cell_type": "code",
   "execution_count": 80,
   "id": "0a1b42ef",
   "metadata": {},
   "outputs": [
    {
     "name": "stdout",
     "output_type": "stream",
     "text": [
      "Henri\n",
      "Grumpy\n",
      "Lucy\n"
     ]
    }
   ],
   "source": [
    "for values in life[\"animals\"][\"cats\"]:\n",
    "    print(values)"
   ]
  }
 ],
 "metadata": {
  "kernelspec": {
   "display_name": "Python 3 (ipykernel)",
   "language": "python",
   "name": "python3"
  },
  "language_info": {
   "codemirror_mode": {
    "name": "ipython",
    "version": 3
   },
   "file_extension": ".py",
   "mimetype": "text/x-python",
   "name": "python",
   "nbconvert_exporter": "python",
   "pygments_lexer": "ipython3",
   "version": "3.9.12"
  }
 },
 "nbformat": 4,
 "nbformat_minor": 5
}
