{
 "cells": [
  {
   "cell_type": "markdown",
   "id": "ecf9f507",
   "metadata": {},
   "source": [
    "<b>Q.1:</b> How do you distinguish between shutil.copy() and shutil.copytree()?"
   ]
  },
  {
   "cell_type": "markdown",
   "id": "5cbedac2",
   "metadata": {},
   "source": [
    "<b>Ans:</b>\n",
    "* shutil. copy(): will copy a single file\n",
    "* shutil. copytree(): will copy an entire folder and every folder and file contained in it. "
   ]
  },
  {
   "cell_type": "markdown",
   "id": "f0a0026c",
   "metadata": {},
   "source": [
    "<b>Q.2:</b> What function is used to rename files?"
   ]
  },
  {
   "cell_type": "markdown",
   "id": "a6ee7016",
   "metadata": {},
   "source": [
    "<b>Ans:</b>\n",
    "* shutil.move('my_folder_current', 'new_folder')\n",
    "* os.rename(src, dst)"
   ]
  },
  {
   "cell_type": "markdown",
   "id": "4e932e1e",
   "metadata": {},
   "source": [
    "<b>Q.3:</b> What is the difference between the delete functions in the send2trash and shutil modules?"
   ]
  },
  {
   "cell_type": "markdown",
   "id": "59acf065",
   "metadata": {},
   "source": [
    "<b>Ans:</b> delete in send2trash actually sends the file to recycle bin while in shutil modules it permanently deletes the file."
   ]
  },
  {
   "cell_type": "markdown",
   "id": "d8c1ccd4",
   "metadata": {},
   "source": [
    "<b>Q.4:</b> ZipFile objects have a close() method just like File objects’ close() method. What ZipFile method is\n",
    "equivalent to File objects’ open() method?"
   ]
  },
  {
   "cell_type": "markdown",
   "id": "3b2705e9",
   "metadata": {},
   "source": [
    "<b>Ans:</b> ZipFile(filepath) "
   ]
  },
  {
   "cell_type": "markdown",
   "id": "eb1bdd9a",
   "metadata": {},
   "source": [
    "<b>Q.5:</b> Create a programme that searches a folder tree for files with a certain file extension (such as .pdf\n",
    "or .jpg). Copy these files from whatever location they are in to a new folder."
   ]
  },
  {
   "cell_type": "code",
   "execution_count": 1,
   "id": "c2c02e9f",
   "metadata": {},
   "outputs": [],
   "source": [
    "import os\n",
    "import shutil\n",
    "\n",
    "def SearchAndCopy(sourceFolder, extensions, destinationFolder):\n",
    "    # taking the absolute path of source and destination\n",
    "    folder = os.path.abspath(folder)\n",
    "    destinationFolder = os.path(destinationFolder)\n",
    "\n",
    "    # searching for folders, sub folders and files in source folder\n",
    "    for folderName, subFolders, fileNames in os.walk(folder):\n",
    "\n",
    "        # loop over each file in fileNames list\n",
    "        for fileName in fileNames:\n",
    "\n",
    "            # split the name and extension of file from fileNames list into\n",
    "            # name and extension\n",
    "            name, extension = os.path.splitext(fileName)\n",
    "            \n",
    "            # if the extension of the current file is in the given list of extensions\n",
    "            if  extension in extensions:\n",
    "                #  take the absolute path of that file\n",
    "                fileAbsPath = folderName + os.path.sep + fileName\n",
    "\n",
    "                # copy that specific file to the destination folder\n",
    "                shutil.copy(fileAbsPath, destinationFolder)\n"
   ]
  }
 ],
 "metadata": {
  "kernelspec": {
   "display_name": "Python 3 (ipykernel)",
   "language": "python",
   "name": "python3"
  },
  "language_info": {
   "codemirror_mode": {
    "name": "ipython",
    "version": 3
   },
   "file_extension": ".py",
   "mimetype": "text/x-python",
   "name": "python",
   "nbconvert_exporter": "python",
   "pygments_lexer": "ipython3",
   "version": "3.9.12"
  }
 },
 "nbformat": 4,
 "nbformat_minor": 5
}
