{
 "cells": [
  {
   "cell_type": "markdown",
   "id": "31429b88",
   "metadata": {},
   "source": [
    "<b>Q.1:</b> Make a class called Thing with no contents and print it. Then, create an object called example\n",
    "from this class and also print it. Are the printed values the same or different?"
   ]
  },
  {
   "cell_type": "code",
   "execution_count": 8,
   "id": "a3c323b9",
   "metadata": {},
   "outputs": [
    {
     "name": "stdout",
     "output_type": "stream",
     "text": [
      "This is my first class\n"
     ]
    }
   ],
   "source": [
    "class Thing:\n",
    "    print(\"This is my first class\")"
   ]
  },
  {
   "cell_type": "code",
   "execution_count": 13,
   "id": "7140e3c8",
   "metadata": {},
   "outputs": [],
   "source": [
    "example = Thing()    "
   ]
  },
  {
   "cell_type": "code",
   "execution_count": 14,
   "id": "785804dc",
   "metadata": {},
   "outputs": [
    {
     "name": "stdout",
     "output_type": "stream",
     "text": [
      "<__main__.Thing object at 0x0000023BFCF07910>\n"
     ]
    }
   ],
   "source": [
    "print(example)"
   ]
  },
  {
   "cell_type": "markdown",
   "id": "10b1f1f2",
   "metadata": {},
   "source": [
    "<b>Q.2:</b> Create a new class called Thing2 and add the value 'abc' to the letters class attribute. Letters\n",
    "should be printed."
   ]
  },
  {
   "cell_type": "code",
   "execution_count": 15,
   "id": "bbcd04bd",
   "metadata": {},
   "outputs": [],
   "source": [
    "class Thing2:\n",
    "    letters = 'abc'   "
   ]
  },
  {
   "cell_type": "code",
   "execution_count": 16,
   "id": "5dd5e84b",
   "metadata": {},
   "outputs": [
    {
     "name": "stdout",
     "output_type": "stream",
     "text": [
      "abc\n"
     ]
    }
   ],
   "source": [
    "print(Thing2.letters)"
   ]
  },
  {
   "cell_type": "markdown",
   "id": "232e0351",
   "metadata": {},
   "source": [
    "<b>Q.3:</b> Make yet another class called, of course, Thing3. This time, assign the value 'xyz' to an instance\n",
    "(object) attribute called letters. Print letters. Do you need to make an object from the class to do\n",
    "this?"
   ]
  },
  {
   "cell_type": "code",
   "execution_count": 21,
   "id": "451ca3c7",
   "metadata": {},
   "outputs": [],
   "source": [
    "class Thing3:\n",
    "    def __init__(self):\n",
    "        self.letters = \"xyz\""
   ]
  },
  {
   "cell_type": "code",
   "execution_count": 23,
   "id": "d4af4ff1",
   "metadata": {},
   "outputs": [
    {
     "name": "stdout",
     "output_type": "stream",
     "text": [
      "xyz\n"
     ]
    }
   ],
   "source": [
    "x = Thing3()\n",
    "print(x.letters)"
   ]
  },
  {
   "cell_type": "markdown",
   "id": "d0542a79",
   "metadata": {},
   "source": [
    "<b>Q.4:</b> Create an Element class with the instance attributes name, symbol, and number. Create a class\n",
    "object with the values 'Hydrogen,' 'H,' and 1."
   ]
  },
  {
   "cell_type": "code",
   "execution_count": 28,
   "id": "9061e2ae",
   "metadata": {},
   "outputs": [],
   "source": [
    "class Element:\n",
    "    def __init__(self, name, symbol, number):\n",
    "        self.name = name\n",
    "        self.symbol = symbol\n",
    "        self.number = number"
   ]
  },
  {
   "cell_type": "code",
   "execution_count": 31,
   "id": "64fd23ec",
   "metadata": {},
   "outputs": [],
   "source": [
    "x = Element('Hydrogen', 'H', 1)"
   ]
  },
  {
   "cell_type": "markdown",
   "id": "7a81db0a",
   "metadata": {},
   "source": [
    "<b>Q.5:</b> Make a dictionary with these keys and values: 'name': 'Hydrogen', 'symbol': 'H', 'number': 1. Then,\n",
    "create an object called hydrogen from class Element using this dictionary."
   ]
  },
  {
   "cell_type": "code",
   "execution_count": 33,
   "id": "78636003",
   "metadata": {},
   "outputs": [],
   "source": [
    "d = { 'name': 'Hydrogen', 'symbol': 'H', 'number': 1}"
   ]
  },
  {
   "cell_type": "code",
   "execution_count": 34,
   "id": "fe656e8d",
   "metadata": {},
   "outputs": [],
   "source": [
    "hydrogen = Element(**d )"
   ]
  },
  {
   "cell_type": "markdown",
   "id": "0ec9e4a5",
   "metadata": {},
   "source": [
    "<b>Q.6:</b> For the Element class, define a method called dump() that prints the values of the object’s\n",
    "attributes (name, symbol, and number). Create the hydrogen object from this new definition and\n",
    "use dump() to print its attributes."
   ]
  },
  {
   "cell_type": "code",
   "execution_count": 42,
   "id": "7950bd2f",
   "metadata": {},
   "outputs": [],
   "source": [
    "class  Element:\n",
    "    def __init__(self, name, symbol, number):\n",
    "        self.name = name\n",
    "        self.symbol = symbol\n",
    "        self.number = number\n",
    "        \n",
    "    def dump(self):\n",
    "        return self.name, self.symbol, self.number\n",
    "               "
   ]
  },
  {
   "cell_type": "code",
   "execution_count": 43,
   "id": "7a4ebd0b",
   "metadata": {},
   "outputs": [],
   "source": [
    "hydrogen = Element(\"Hydrogen\", \"H\", 1)"
   ]
  },
  {
   "cell_type": "code",
   "execution_count": 44,
   "id": "60cf01b5",
   "metadata": {},
   "outputs": [
    {
     "data": {
      "text/plain": [
       "('Hydrogen', 'H', 1)"
      ]
     },
     "execution_count": 44,
     "metadata": {},
     "output_type": "execute_result"
    }
   ],
   "source": [
    "hydrogen.dump()"
   ]
  },
  {
   "cell_type": "markdown",
   "id": "c573e287",
   "metadata": {},
   "source": [
    "<b>Q.7:</b> Call print(hydrogen). In the definition of Element, change the name of method dump to __str__,\n",
    "create a new hydrogen object, and call print(hydrogen) again."
   ]
  },
  {
   "cell_type": "code",
   "execution_count": 45,
   "id": "44ef8820",
   "metadata": {},
   "outputs": [
    {
     "name": "stdout",
     "output_type": "stream",
     "text": [
      "<__main__.Element object at 0x0000023BFE216B50>\n"
     ]
    }
   ],
   "source": [
    "print(hydrogen)"
   ]
  },
  {
   "cell_type": "code",
   "execution_count": 51,
   "id": "a264f311",
   "metadata": {},
   "outputs": [],
   "source": [
    "class Element:\n",
    "    def __init__(self, name, symbol, number):\n",
    "        self.name = name \n",
    "        self.symbol = symbol \n",
    "        self.number = number \n",
    "    \n",
    "    def __str__(self):\n",
    "        return self.name, self.symbol, self.number"
   ]
  },
  {
   "cell_type": "code",
   "execution_count": 52,
   "id": "b55040ba",
   "metadata": {},
   "outputs": [],
   "source": [
    "hydrogen1 = ('Hydrogen', 'H', 1)"
   ]
  },
  {
   "cell_type": "code",
   "execution_count": 53,
   "id": "75cb047c",
   "metadata": {},
   "outputs": [
    {
     "name": "stdout",
     "output_type": "stream",
     "text": [
      "('Hydrogen', 'H', 1)\n"
     ]
    }
   ],
   "source": [
    "print(hydrogen1)"
   ]
  },
  {
   "cell_type": "markdown",
   "id": "5f76a05c",
   "metadata": {},
   "source": [
    "<b>Q.8:</b> Modify Element to make the attributes name, symbol, and number private. Define a getter\n",
    "property for each to return its value."
   ]
  },
  {
   "cell_type": "code",
   "execution_count": 55,
   "id": "1f8626cc",
   "metadata": {},
   "outputs": [],
   "source": [
    "class Element:\n",
    "    def __init__(self, name, symbol, number):\n",
    "        self.__name = name \n",
    "        self.__symbol = symbol \n",
    "        self.__number = number \n",
    "    \n",
    "    def __str__(self):\n",
    "        return self.__name, self.__symbol, self.__number\n",
    "    \n",
    "    @property\n",
    "    def getName(self):\n",
    "        return self.__name\n",
    "\n",
    "    @property\n",
    "    def getSymbol(self):\n",
    "        return self.__symbol\n",
    "    \n",
    "    @property\n",
    "    def getNumber(self):\n",
    "        return self.__number"
   ]
  },
  {
   "cell_type": "code",
   "execution_count": 56,
   "id": "194c3416",
   "metadata": {},
   "outputs": [],
   "source": [
    "hydrogen2 = Element('Hydrogen', 'H', 1)"
   ]
  },
  {
   "cell_type": "code",
   "execution_count": 57,
   "id": "503f59bf",
   "metadata": {},
   "outputs": [
    {
     "data": {
      "text/plain": [
       "'Hydrogen'"
      ]
     },
     "execution_count": 57,
     "metadata": {},
     "output_type": "execute_result"
    }
   ],
   "source": [
    "hydrogen2.getName"
   ]
  },
  {
   "cell_type": "code",
   "execution_count": 58,
   "id": "68347956",
   "metadata": {},
   "outputs": [
    {
     "data": {
      "text/plain": [
       "'H'"
      ]
     },
     "execution_count": 58,
     "metadata": {},
     "output_type": "execute_result"
    }
   ],
   "source": [
    "hydrogen2.getSymbol"
   ]
  },
  {
   "cell_type": "code",
   "execution_count": 59,
   "id": "86af8e00",
   "metadata": {},
   "outputs": [
    {
     "data": {
      "text/plain": [
       "1"
      ]
     },
     "execution_count": 59,
     "metadata": {},
     "output_type": "execute_result"
    }
   ],
   "source": [
    "hydrogen2.getNumber"
   ]
  },
  {
   "cell_type": "markdown",
   "id": "e82415ee",
   "metadata": {},
   "source": [
    "<b>Q.9:</b> Define three classes: Bear, Rabbit, and Octothorpe. For each, define only one method: eats(). This\n",
    "should return 'berries' (Bear), 'clover' (Rabbit), or 'campers' (Octothorpe). Create one object from\n",
    "each and print what it eats."
   ]
  },
  {
   "cell_type": "code",
   "execution_count": 61,
   "id": "a02c456e",
   "metadata": {},
   "outputs": [],
   "source": [
    "class Bear:\n",
    "    def eat():\n",
    "        return 'berries'\n",
    "\n",
    "class Rabbit:\n",
    "    def eat():\n",
    "        return 'clover'\n",
    "\n",
    "class Octothorpe:\n",
    "    def eat():\n",
    "        return 'campers'"
   ]
  },
  {
   "cell_type": "code",
   "execution_count": 62,
   "id": "4d81b513",
   "metadata": {},
   "outputs": [
    {
     "data": {
      "text/plain": [
       "'berries'"
      ]
     },
     "execution_count": 62,
     "metadata": {},
     "output_type": "execute_result"
    }
   ],
   "source": [
    "Bear.eat()"
   ]
  },
  {
   "cell_type": "code",
   "execution_count": 63,
   "id": "4239d915",
   "metadata": {},
   "outputs": [
    {
     "data": {
      "text/plain": [
       "'clover'"
      ]
     },
     "execution_count": 63,
     "metadata": {},
     "output_type": "execute_result"
    }
   ],
   "source": [
    "Rabbit.eat()"
   ]
  },
  {
   "cell_type": "code",
   "execution_count": 64,
   "id": "d45a8bb0",
   "metadata": {},
   "outputs": [
    {
     "data": {
      "text/plain": [
       "'campers'"
      ]
     },
     "execution_count": 64,
     "metadata": {},
     "output_type": "execute_result"
    }
   ],
   "source": [
    "Octothorpe.eat()"
   ]
  },
  {
   "cell_type": "markdown",
   "id": "03ef8645",
   "metadata": {},
   "source": [
    "<b>Q.10:</b> Define these classes: Laser, Claw, and SmartPhone. Each has only one method: does(). This\n",
    "returns 'disintegrate' (Laser), 'crush' (Claw), or 'ring' (SmartPhone). Then, define the class Robot that\n",
    "has one instance (object) of each of these. Define a does() method for the Robot that prints what its\n",
    "component objects do."
   ]
  },
  {
   "cell_type": "code",
   "execution_count": 68,
   "id": "e7307e3c",
   "metadata": {},
   "outputs": [],
   "source": [
    "class Laser:\n",
    "    def does(self):\n",
    "        return 'disintegrate'\n",
    "    \n",
    "class Claw:\n",
    "    def does(self):\n",
    "        return  'crush'\n",
    "    \n",
    "class SmartPhone:\n",
    "    def does(self):\n",
    "        return 'ring' \n",
    "    \n",
    "class Robot:\n",
    "    def __init__(self):\n",
    "        self.l = Laser()\n",
    "        self.c = Claw()\n",
    "        self.s = SmartPhone()\n",
    "        \n",
    "    def does(self):\n",
    "        return self.l.does(), self.c.does(), self.s.does()"
   ]
  },
  {
   "cell_type": "code",
   "execution_count": 69,
   "id": "081d4b9c",
   "metadata": {},
   "outputs": [],
   "source": [
    "x = Robot()"
   ]
  },
  {
   "cell_type": "code",
   "execution_count": 70,
   "id": "62a46ec1",
   "metadata": {},
   "outputs": [
    {
     "data": {
      "text/plain": [
       "('disintegrate', 'crush', 'ring')"
      ]
     },
     "execution_count": 70,
     "metadata": {},
     "output_type": "execute_result"
    }
   ],
   "source": [
    "x.does()"
   ]
  }
 ],
 "metadata": {
  "kernelspec": {
   "display_name": "Python 3 (ipykernel)",
   "language": "python",
   "name": "python3"
  },
  "language_info": {
   "codemirror_mode": {
    "name": "ipython",
    "version": 3
   },
   "file_extension": ".py",
   "mimetype": "text/x-python",
   "name": "python",
   "nbconvert_exporter": "python",
   "pygments_lexer": "ipython3",
   "version": "3.9.12"
  }
 },
 "nbformat": 4,
 "nbformat_minor": 5
}
