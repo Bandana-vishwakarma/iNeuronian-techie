{
 "cells": [
  {
   "cell_type": "markdown",
   "id": "c11fabe9",
   "metadata": {},
   "source": [
    "<b>Q.1:</b> What does RGBA stand for?"
   ]
  },
  {
   "cell_type": "markdown",
   "id": "197ff2bd",
   "metadata": {},
   "source": [
    "<b>Ans:</b> <b>RGBA(Red-Green-Blue-Alpha)</b> The RGB color model is extended in this specification to include “alpha” to allow specification of the opacity of a color."
   ]
  },
  {
   "cell_type": "markdown",
   "id": "aa5f2c1f",
   "metadata": {},
   "source": [
    "<b>Q.2:</b> From the Pillow module, how do you get the RGBA value of any images?"
   ]
  },
  {
   "cell_type": "markdown",
   "id": "99a92c20",
   "metadata": {},
   "source": [
    "<b>Ans:</b> ImageColor.getcolor()"
   ]
  },
  {
   "cell_type": "markdown",
   "id": "714bec7d",
   "metadata": {},
   "source": [
    "<b>Q.3:</b> What is a box tuple, and how does it work?"
   ]
  },
  {
   "cell_type": "markdown",
   "id": "0ee94c20",
   "metadata": {},
   "source": [
    "<b>Ans:</b> It is a tuple of four integers which are left-edge-x coordinate, top-edge-y coordinate, width and height.Used to crop image.\n",
    "\n"
   ]
  },
  {
   "cell_type": "markdown",
   "id": "b642cbcb",
   "metadata": {},
   "source": [
    "<b>Q.4:</b> Use your image and load in notebook then, How can you find out the width and height of an\n",
    "Image object?"
   ]
  },
  {
   "cell_type": "code",
   "execution_count": 4,
   "id": "6799d8e4",
   "metadata": {},
   "outputs": [],
   "source": [
    "from PIL import Image\n",
    "image = Image.open(\"./Matplotlib.png\")\n",
    "width, height = image.size"
   ]
  },
  {
   "cell_type": "code",
   "execution_count": 5,
   "id": "32470639",
   "metadata": {},
   "outputs": [
    {
     "data": {
      "text/plain": [
       "1920"
      ]
     },
     "execution_count": 5,
     "metadata": {},
     "output_type": "execute_result"
    }
   ],
   "source": [
    "width"
   ]
  },
  {
   "cell_type": "code",
   "execution_count": 6,
   "id": "7c3f44c6",
   "metadata": {},
   "outputs": [
    {
     "data": {
      "text/plain": [
       "1080"
      ]
     },
     "execution_count": 6,
     "metadata": {},
     "output_type": "execute_result"
    }
   ],
   "source": [
    "height"
   ]
  },
  {
   "cell_type": "markdown",
   "id": "ea289ae5",
   "metadata": {},
   "source": [
    "<b>Q.5:</b> What method would you call to get Image object for a 100×100 image, excluding the lower-left\n",
    "quarter of it? "
   ]
  },
  {
   "cell_type": "code",
   "execution_count": 7,
   "id": "e70d3d50",
   "metadata": {},
   "outputs": [],
   "source": [
    "from PIL import Image\n",
    "\n",
    "\n",
    "image = Image.open('./Matplotlib.png')\n",
    "mod_image = image.crop((0, 50, 50, 50) )\n"
   ]
  },
  {
   "cell_type": "markdown",
   "id": "9970dc85",
   "metadata": {},
   "source": [
    "<b>Q.6:</b> After making changes to an Image object, how could you save it as an image file?"
   ]
  },
  {
   "cell_type": "code",
   "execution_count": 8,
   "id": "64559af0",
   "metadata": {},
   "outputs": [],
   "source": [
    "img = Image.open('./Matplotlib.png')\n",
    "img.save('./Matplotlib_2.png')"
   ]
  },
  {
   "cell_type": "markdown",
   "id": "ebd2617f",
   "metadata": {},
   "source": [
    "<b>Q.7:</b> What module contains Pillow’s shape-drawing code?"
   ]
  },
  {
   "cell_type": "markdown",
   "id": "2b6d1822",
   "metadata": {},
   "source": [
    "<b>Ans:</b>  ImageDraw module"
   ]
  },
  {
   "cell_type": "markdown",
   "id": "f8e2ff1d",
   "metadata": {},
   "source": [
    "<b>Q.8:</b> Image objects do not have drawing methods. What kind of object does? How do you get this kind of object?"
   ]
  },
  {
   "cell_type": "markdown",
   "id": "31899262",
   "metadata": {},
   "source": [
    "<b>Ans:</b> ImageDraw objects have drawing methods.\n",
    "\n",
    "To get these objects you have to pass the image object to the ImageDraw.Draw() function."
   ]
  }
 ],
 "metadata": {
  "kernelspec": {
   "display_name": "Python 3 (ipykernel)",
   "language": "python",
   "name": "python3"
  },
  "language_info": {
   "codemirror_mode": {
    "name": "ipython",
    "version": 3
   },
   "file_extension": ".py",
   "mimetype": "text/x-python",
   "name": "python",
   "nbconvert_exporter": "python",
   "pygments_lexer": "ipython3",
   "version": "3.9.12"
  }
 },
 "nbformat": 4,
 "nbformat_minor": 5
}
