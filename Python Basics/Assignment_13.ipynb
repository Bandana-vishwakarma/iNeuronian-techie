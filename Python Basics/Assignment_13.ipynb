{
 "cells": [
  {
   "cell_type": "markdown",
   "id": "d439f4d4",
   "metadata": {},
   "source": [
    "<b>Q.1:</b> What advantages do Excel spreadsheets have over CSV spreadsheets?"
   ]
  },
  {
   "cell_type": "markdown",
   "id": "27634ac8",
   "metadata": {},
   "source": [
    "<b>Ans:</b> \n",
    "* excel sheet easily readable compared to csv sheet\n",
    "* different operations can be performed on excel sheet which cant be done on csv sheet\n",
    "* different UI base softwares available to visualize, analyze and operate on excel sheet which are not available for csv sheets."
   ]
  },
  {
   "cell_type": "markdown",
   "id": "58f4c6e8",
   "metadata": {},
   "source": [
    "<b>Q.2:</b> What do you pass to csv.reader() and csv.writer() to create reader and writer objects? "
   ]
  },
  {
   "cell_type": "markdown",
   "id": "6ac33e6b",
   "metadata": {},
   "source": [
    "<b>Ans:</b> File object"
   ]
  },
  {
   "cell_type": "code",
   "execution_count": 1,
   "id": "904d15fa",
   "metadata": {},
   "outputs": [],
   "source": [
    "import csv\n",
    "with open('test.csv','w+') as file:\n",
    "    csv_file = csv.writer(file)\n",
    "    csv_file = csv.reader(file)"
   ]
  },
  {
   "cell_type": "markdown",
   "id": "4816f262",
   "metadata": {},
   "source": [
    "<b>Q.3</b> What modes do File objects for reader and writer objects need to be opened in? "
   ]
  },
  {
   "cell_type": "markdown",
   "id": "fdaed329",
   "metadata": {},
   "source": [
    "<b>Ans:</b>\n",
    "* for csv_Reader(file_obj) file obj must be opened in read mode\n",
    "* for csv_writer(file_obj) file obj must be opened in write mode"
   ]
  },
  {
   "cell_type": "markdown",
   "id": "381450e0",
   "metadata": {},
   "source": [
    "<b>Q.4:</b> What method takes a list argument and writes it to a CSV file? "
   ]
  },
  {
   "cell_type": "markdown",
   "id": "3c896055",
   "metadata": {},
   "source": [
    "<b>Ans:</b> writerow() method writes a single row at a time. Whereas writerows() method is used to write multiple rows at a time."
   ]
  },
  {
   "cell_type": "code",
   "execution_count": 2,
   "id": "903f15e8",
   "metadata": {},
   "outputs": [],
   "source": [
    "import csv   \n",
    "\n",
    "fields = ['Name', 'Branch', 'Year', 'CGPA']  \n",
    "rows = [['hah', 'dfhjg', '5', '426798.0'], \n",
    "            ['thtuh', 'tgfj', '9495', '67.1'], \n",
    "            ['ryui', 'ghjlk', '135', '97.76994']] \n",
    "                  \n",
    "with open(\"test.csv\", 'w') as csv_file: \n",
    "    csv_writer = csv.writer(csv_file)  \n",
    "    csv_writer.writerow(fields) \n",
    "    csv_writer.writerows(rows)  \n"
   ]
  },
  {
   "cell_type": "markdown",
   "id": "55427f54",
   "metadata": {},
   "source": [
    "<b>Q.5:</b> What do the keyword arguments delimiter and line terminator do?"
   ]
  },
  {
   "cell_type": "markdown",
   "id": "18efa8ff",
   "metadata": {},
   "source": [
    "<b>Ans:</b> This changes the delimiter and line terminator characters in your file. The delimiter is the character that appears between cells on a row. By default, the delimiter for a CSV file is a comma.\n",
    "\n",
    "The line terminator is the character that comes at the end of a row."
   ]
  },
  {
   "cell_type": "markdown",
   "id": "adc2c686",
   "metadata": {},
   "source": [
    "<b>Q.6</b> What function takes a string of JSON data and returns a Python data structure?"
   ]
  },
  {
   "cell_type": "code",
   "execution_count": 3,
   "id": "c28fedbf",
   "metadata": {},
   "outputs": [],
   "source": [
    "import json\n",
    "details = \"\"\"{\"Name\": \"arambh\", \"surname\": \"sharma\"}\"\"\"\n",
    "my_details = json.loads(details)"
   ]
  },
  {
   "cell_type": "code",
   "execution_count": 4,
   "id": "011a84c1",
   "metadata": {},
   "outputs": [
    {
     "data": {
      "text/plain": [
       "str"
      ]
     },
     "execution_count": 4,
     "metadata": {},
     "output_type": "execute_result"
    }
   ],
   "source": [
    "type(details)"
   ]
  },
  {
   "cell_type": "code",
   "execution_count": 5,
   "id": "f0d3f791",
   "metadata": {},
   "outputs": [
    {
     "data": {
      "text/plain": [
       "dict"
      ]
     },
     "execution_count": 5,
     "metadata": {},
     "output_type": "execute_result"
    }
   ],
   "source": [
    "type(my_details)"
   ]
  },
  {
   "cell_type": "markdown",
   "id": "b20d2aa0",
   "metadata": {},
   "source": [
    "<b>Q.7:</b> What function takes a Python data structure and returns a string of JSON data?"
   ]
  },
  {
   "cell_type": "markdown",
   "id": "0713cb93",
   "metadata": {},
   "source": [
    "<b>Ans:</b> dumps()"
   ]
  },
  {
   "cell_type": "code",
   "execution_count": 6,
   "id": "70920e80",
   "metadata": {},
   "outputs": [],
   "source": [
    "import json\n",
    "details = {\"Name\": \"arambh\", \"surname\": \"sharma\"}\n",
    "my_details = json.dumps(details)"
   ]
  },
  {
   "cell_type": "code",
   "execution_count": 7,
   "id": "8f94802b",
   "metadata": {},
   "outputs": [
    {
     "data": {
      "text/plain": [
       "dict"
      ]
     },
     "execution_count": 7,
     "metadata": {},
     "output_type": "execute_result"
    }
   ],
   "source": [
    "type(details)"
   ]
  },
  {
   "cell_type": "code",
   "execution_count": 8,
   "id": "47dea24a",
   "metadata": {},
   "outputs": [
    {
     "data": {
      "text/plain": [
       "str"
      ]
     },
     "execution_count": 8,
     "metadata": {},
     "output_type": "execute_result"
    }
   ],
   "source": [
    "type(my_details) "
   ]
  }
 ],
 "metadata": {
  "kernelspec": {
   "display_name": "Python 3 (ipykernel)",
   "language": "python",
   "name": "python3"
  },
  "language_info": {
   "codemirror_mode": {
    "name": "ipython",
    "version": 3
   },
   "file_extension": ".py",
   "mimetype": "text/x-python",
   "name": "python",
   "nbconvert_exporter": "python",
   "pygments_lexer": "ipython3",
   "version": "3.9.12"
  }
 },
 "nbformat": 4,
 "nbformat_minor": 5
}
