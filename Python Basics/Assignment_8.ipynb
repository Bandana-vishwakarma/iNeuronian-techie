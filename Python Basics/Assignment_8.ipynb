{
 "cells": [
  {
   "cell_type": "markdown",
   "id": "a09342eb",
   "metadata": {},
   "source": [
    "<b>Q.1:</b> Is the Python Standard Library included with PyInputPlus?"
   ]
  },
  {
   "cell_type": "markdown",
   "id": "59ddbc05",
   "metadata": {},
   "source": [
    "<b>Ans:</b>  PyInputPlus is not a part of the Python Standard Library, we must install it separately using <b>Pip</b>"
   ]
  },
  {
   "cell_type": "markdown",
   "id": "9f508992",
   "metadata": {},
   "source": [
    "<b>Q.2:</b> Why is PyInputPlus commonly imported with import pyinputplus as pypi?"
   ]
  },
  {
   "cell_type": "markdown",
   "id": "3a79d4a5",
   "metadata": {},
   "source": [
    "<b>Ans:</b> You can import the module with import pyinputplus as pyip so that you can enter a shorter name when calling the module's functions."
   ]
  },
  {
   "cell_type": "markdown",
   "id": "5279e774",
   "metadata": {},
   "source": [
    "<b>Q.3:</b> How do you distinguish between inputInt() and inputFloat()?"
   ]
  },
  {
   "cell_type": "markdown",
   "id": "eb6e1cc3",
   "metadata": {},
   "source": [
    "<b>Ans:</b> \n",
    "* <b>inputInt():</b> Accepts an integer value.\n",
    "* <b>inputFloat():</b> Accepts a floating-point numeric value."
   ]
  },
  {
   "cell_type": "markdown",
   "id": "fdafb88c",
   "metadata": {},
   "source": [
    "<b>Q.4:</b> Using PyInputPlus, how do you ensure that the user enters a whole number between 0 and 99?"
   ]
  },
  {
   "cell_type": "markdown",
   "id": "171e8fbd",
   "metadata": {},
   "source": [
    "<b>Ans:</b> By using pyip.inputint(min=0, max=99)"
   ]
  },
  {
   "cell_type": "markdown",
   "id": "efcdb58c",
   "metadata": {},
   "source": [
    "<b>Q.5:</b> What is transferred to the keyword arguments allowRegexes and blockRegexes?"
   ]
  },
  {
   "cell_type": "markdown",
   "id": "7706c9bc",
   "metadata": {},
   "source": [
    "<b>Ans:</b> They take regular expressions as values"
   ]
  },
  {
   "cell_type": "markdown",
   "id": "bf2d28ae",
   "metadata": {},
   "source": [
    "<b>Q.6:</b> If a blank input is entered three times, what does inputStr(limit=3) do?"
   ]
  },
  {
   "cell_type": "markdown",
   "id": "0c35d9dc",
   "metadata": {},
   "source": [
    "<b>Ans:</b> The function will raise <b>RetryLimitException.</b>"
   ]
  },
  {
   "cell_type": "markdown",
   "id": "362fc15a",
   "metadata": {},
   "source": [
    "<b>Q.7:</b> If blank input is entered three times, what does inputStr(limit=3, default='hello') do? "
   ]
  },
  {
   "cell_type": "markdown",
   "id": "09e00fd2",
   "metadata": {},
   "source": [
    "<b>Ans:</b> takes default as the value"
   ]
  }
 ],
 "metadata": {
  "kernelspec": {
   "display_name": "Python 3 (ipykernel)",
   "language": "python",
   "name": "python3"
  },
  "language_info": {
   "codemirror_mode": {
    "name": "ipython",
    "version": 3
   },
   "file_extension": ".py",
   "mimetype": "text/x-python",
   "name": "python",
   "nbconvert_exporter": "python",
   "pygments_lexer": "ipython3",
   "version": "3.9.12"
  }
 },
 "nbformat": 4,
 "nbformat_minor": 5
}
