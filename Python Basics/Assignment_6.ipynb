{
 "cells": [
  {
   "cell_type": "markdown",
   "id": "8842a36d",
   "metadata": {},
   "source": [
    "<b>Qus.1:</b>What are escape characters, and how do you use them?"
   ]
  },
  {
   "cell_type": "markdown",
   "id": "0eb0f386",
   "metadata": {},
   "source": [
    "<b>Ans:</b>Escape characters or sequences are illegal characters for Python and never get printed as part of the output.\n",
    "\n",
    "Examples of escape character: \\', \\\\, \\n, \\r, \\t, \\b etc."
   ]
  },
  {
   "cell_type": "code",
   "execution_count": 1,
   "id": "180ccf83",
   "metadata": {},
   "outputs": [
    {
     "name": "stdout",
     "output_type": "stream",
     "text": [
      "hello\n",
      "world\n"
     ]
    }
   ],
   "source": [
    "txt = \"hello\\nworld\"\n",
    "print(txt)"
   ]
  },
  {
   "cell_type": "code",
   "execution_count": 2,
   "id": "1a9fbf25",
   "metadata": {},
   "outputs": [
    {
     "name": "stdout",
     "output_type": "stream",
     "text": [
      "hello\\world\n"
     ]
    }
   ],
   "source": [
    "txt = \"hello\\\\world\"\n",
    "print(txt)"
   ]
  },
  {
   "cell_type": "code",
   "execution_count": 4,
   "id": "dbfd34b6",
   "metadata": {},
   "outputs": [
    {
     "name": "stdout",
     "output_type": "stream",
     "text": [
      "hello\tworld\n"
     ]
    }
   ],
   "source": [
    "txt = \"hello\\tworld\"\n",
    "print(txt)"
   ]
  },
  {
   "cell_type": "markdown",
   "id": "0f1dc5d0",
   "metadata": {},
   "source": [
    "<b>Qus.2:</b>What do the escape characters n and t stand for?"
   ]
  },
  {
   "cell_type": "markdown",
   "id": "0fe24d6c",
   "metadata": {},
   "source": [
    "<b>Ans:</b>\n",
    "* \\n : The new line character helps the programmer to insert a new line before or after a string.\n",
    "* \\t : for tab."
   ]
  },
  {
   "cell_type": "code",
   "execution_count": 6,
   "id": "145372ef",
   "metadata": {},
   "outputs": [
    {
     "name": "stdout",
     "output_type": "stream",
     "text": [
      "hello\n",
      "world\n",
      "hello\tworld\n"
     ]
    }
   ],
   "source": [
    "a = 'hello\\nworld'\n",
    "print(a)\n",
    "\n",
    "b = 'hello\\tworld'\n",
    "print(b)"
   ]
  },
  {
   "cell_type": "markdown",
   "id": "8e144350",
   "metadata": {},
   "source": [
    "<b>Qus.3:</b>What is the way to include backslash characters in a string?"
   ]
  },
  {
   "cell_type": "code",
   "execution_count": 8,
   "id": "acabc19e",
   "metadata": {},
   "outputs": [
    {
     "name": "stdout",
     "output_type": "stream",
     "text": [
      "string \\\n"
     ]
    }
   ],
   "source": [
    "s = \"string \\\\\"\n",
    "print(s)"
   ]
  },
  {
   "cell_type": "markdown",
   "id": "97624e21",
   "metadata": {},
   "source": [
    "<b>Qus.4:</b>The string \"Howl's Moving Castle\" is a correct value. Why isn't the single quote character in the\n",
    "word Howl's not escaped a problem?"
   ]
  },
  {
   "cell_type": "markdown",
   "id": "c5b4f65a",
   "metadata": {},
   "source": [
    "<b>Ans:</b>Because we are using double quotes string to declare the string."
   ]
  },
  {
   "cell_type": "code",
   "execution_count": 13,
   "id": "3efa897a",
   "metadata": {},
   "outputs": [
    {
     "name": "stdout",
     "output_type": "stream",
     "text": [
      "Howl's Moving Castle\n"
     ]
    }
   ],
   "source": [
    "s = \"Howl's Moving Castle\"\n",
    "print(s)"
   ]
  },
  {
   "cell_type": "code",
   "execution_count": 14,
   "id": "ff2a549b",
   "metadata": {},
   "outputs": [
    {
     "ename": "SyntaxError",
     "evalue": "invalid syntax (1925089479.py, line 1)",
     "output_type": "error",
     "traceback": [
      "\u001b[1;36m  Input \u001b[1;32mIn [14]\u001b[1;36m\u001b[0m\n\u001b[1;33m    a = 'Howl's Moving Castle'\u001b[0m\n\u001b[1;37m              ^\u001b[0m\n\u001b[1;31mSyntaxError\u001b[0m\u001b[1;31m:\u001b[0m invalid syntax\n"
     ]
    }
   ],
   "source": [
    "a = 'Howl's Moving Castle'\n",
    "print(a)"
   ]
  },
  {
   "cell_type": "markdown",
   "id": "a2d81e14",
   "metadata": {},
   "source": [
    "<b>Qus.5:</b>How do you write a string of newlines if you don't want to use the n character?"
   ]
  },
  {
   "cell_type": "code",
   "execution_count": 15,
   "id": "fd93e306",
   "metadata": {},
   "outputs": [
    {
     "name": "stdout",
     "output_type": "stream",
     "text": [
      "Hello World"
     ]
    }
   ],
   "source": [
    "s = \"Hello World\"\n",
    "# if multiple prints are done in ide it will be in same line its not working in jupyter console\n",
    "print(s, end='')"
   ]
  },
  {
   "cell_type": "markdown",
   "id": "0307f7b8",
   "metadata": {},
   "source": [
    "<b>Qus.6:</b>What are the values of the given expressions?\n",
    "'Hello, world!'[1]\n",
    "\n",
    "'Hello, world!'[0:5]\n",
    "\n",
    "'Hello, world!'[:5]\n",
    "\n",
    "'Hello, world!'[3:]"
   ]
  },
  {
   "cell_type": "code",
   "execution_count": 17,
   "id": "cc43cf1c",
   "metadata": {},
   "outputs": [
    {
     "name": "stdout",
     "output_type": "stream",
     "text": [
      "e\n",
      "Hello\n",
      "Hello\n",
      "lo, world!\n"
     ]
    }
   ],
   "source": [
    "print('Hello, world!'[1])\n",
    "print('Hello, world!'[0:5])\n",
    "print('Hello, world!'[:5])\n",
    "print('Hello, world!'[3:])"
   ]
  },
  {
   "cell_type": "markdown",
   "id": "8d84103c",
   "metadata": {},
   "source": [
    "<b>Qus.7:</b>What are the values of the following expressions?\n",
    "'Hello'.upper()\n",
    "\n",
    "'Hello'.upper().isupper()\n",
    "\n",
    "'Hello'.upper().lower()"
   ]
  },
  {
   "cell_type": "code",
   "execution_count": 18,
   "id": "88cd2e4d",
   "metadata": {},
   "outputs": [
    {
     "name": "stdout",
     "output_type": "stream",
     "text": [
      "HELLO\n",
      "True\n",
      "hello\n"
     ]
    }
   ],
   "source": [
    "print('Hello'.upper())\n",
    "print('Hello'.upper().isupper())\n",
    "print('Hello'.upper().lower())"
   ]
  },
  {
   "cell_type": "markdown",
   "id": "4b63e811",
   "metadata": {},
   "source": [
    "<b>Qus.8:</b>What are the values of the following expressions?\n",
    "\n",
    "'Remember, remember, the fifth of July.'.split()\n",
    "\n",
    "'-'.join('There can only one.'.split())"
   ]
  },
  {
   "cell_type": "code",
   "execution_count": 20,
   "id": "c18c139b",
   "metadata": {},
   "outputs": [
    {
     "name": "stdout",
     "output_type": "stream",
     "text": [
      "['Remember,', 'remember', 'the', 'fifth', 'of', 'July']\n",
      "Their-can-only-one.\n"
     ]
    }
   ],
   "source": [
    "print('Remember, remember the fifth of July'.split())\n",
    "print('-'.join('Their can only one.'.split()))"
   ]
  },
  {
   "cell_type": "markdown",
   "id": "5e5ee7f5",
   "metadata": {},
   "source": [
    "<b>Qus.9:</b>What are the methods for right-justifying, left-justifying, and centering a string?"
   ]
  },
  {
   "cell_type": "code",
   "execution_count": 26,
   "id": "5003896c",
   "metadata": {},
   "outputs": [
    {
     "name": "stdout",
     "output_type": "stream",
     "text": [
      "                                      Hello world!\n",
      "Hello world!                                                                    \n",
      "                             Hello world!                             \n"
     ]
    }
   ],
   "source": [
    "a = 'Hello world!'\n",
    "print(a.rjust(50))\n",
    "print(a.ljust(80))\n",
    "print(a.center(70))"
   ]
  },
  {
   "cell_type": "markdown",
   "id": "2cf865ac",
   "metadata": {},
   "source": [
    "<b>Qus.10:</b>What is the best way to remove whitespace characters from the start or end?"
   ]
  },
  {
   "cell_type": "code",
   "execution_count": 25,
   "id": "afdb8c1e",
   "metadata": {},
   "outputs": [
    {
     "name": "stdout",
     "output_type": "stream",
     "text": [
      "python basics \n",
      " python basics\n"
     ]
    }
   ],
   "source": [
    "s = ' python basics '\n",
    "print(s.lstrip())\n",
    "print(s.rstrip())"
   ]
  }
 ],
 "metadata": {
  "kernelspec": {
   "display_name": "Python 3 (ipykernel)",
   "language": "python",
   "name": "python3"
  },
  "language_info": {
   "codemirror_mode": {
    "name": "ipython",
    "version": 3
   },
   "file_extension": ".py",
   "mimetype": "text/x-python",
   "name": "python",
   "nbconvert_exporter": "python",
   "pygments_lexer": "ipython3",
   "version": "3.9.12"
  }
 },
 "nbformat": 4,
 "nbformat_minor": 5
}
