{
 "cells": [
  {
   "cell_type": "markdown",
   "id": "71e48d2b",
   "metadata": {},
   "source": [
    "<b>Qus.1:</b>What exactly is []?"
   ]
  },
  {
   "cell_type": "markdown",
   "id": "7197a7ab",
   "metadata": {},
   "source": [
    "<b>Ans:</b>Empty list."
   ]
  },
  {
   "cell_type": "markdown",
   "id": "e28b3fbf",
   "metadata": {},
   "source": [
    "<b>Qus.2:</b>In a list of values stored in a variable called spam, how would you assign the value &#39;hello&#39; as the\n",
    "third value? (Assume [2, 4, 6, 8, 10] are in spam.)"
   ]
  },
  {
   "cell_type": "markdown",
   "id": "d01838f3",
   "metadata": {},
   "source": [
    "<b>Ans:</b>"
   ]
  },
  {
   "cell_type": "code",
   "execution_count": 2,
   "id": "565b8747",
   "metadata": {},
   "outputs": [
    {
     "name": "stdout",
     "output_type": "stream",
     "text": [
      "[2, 4, 'hello', 6, 8, 10]\n"
     ]
    }
   ],
   "source": [
    "spam = [2, 4, 6, 8, 10] \n",
    "spam.insert(2, 'hello')\n",
    "print(spam)"
   ]
  },
  {
   "cell_type": "markdown",
   "id": "32401544",
   "metadata": {},
   "source": [
    "<b>Qus.3:</b>What is the value of spam[int(int(&#39;3&#39; * 2) / 11)]?"
   ]
  },
  {
   "cell_type": "code",
   "execution_count": 3,
   "id": "af35c1d7",
   "metadata": {},
   "outputs": [
    {
     "data": {
      "text/plain": [
       "6"
      ]
     },
     "execution_count": 3,
     "metadata": {},
     "output_type": "execute_result"
    }
   ],
   "source": [
    "spam[int(int('3' * 2) / 11)]"
   ]
  },
  {
   "cell_type": "markdown",
   "id": "0a75da15",
   "metadata": {},
   "source": [
    "<b>Qus.4:</b>What is the value of spam[-1]?"
   ]
  },
  {
   "cell_type": "code",
   "execution_count": 4,
   "id": "d8704346",
   "metadata": {},
   "outputs": [
    {
     "data": {
      "text/plain": [
       "10"
      ]
     },
     "execution_count": 4,
     "metadata": {},
     "output_type": "execute_result"
    }
   ],
   "source": [
    "spam[-1]"
   ]
  },
  {
   "cell_type": "markdown",
   "id": "3e8bf875",
   "metadata": {},
   "source": [
    "<b>Qus.5:</b>What is the value of spam[:2]?"
   ]
  },
  {
   "cell_type": "code",
   "execution_count": 5,
   "id": "c5cf3a37",
   "metadata": {},
   "outputs": [
    {
     "data": {
      "text/plain": [
       "[2, 4]"
      ]
     },
     "execution_count": 5,
     "metadata": {},
     "output_type": "execute_result"
    }
   ],
   "source": [
    "spam[:2]"
   ]
  },
  {
   "cell_type": "markdown",
   "id": "52057527",
   "metadata": {},
   "source": [
    "Let's pretend bacon has the list [3.14, &#39;cat,&#39; 11, &#39;cat,&#39; True] for the next three questions."
   ]
  },
  {
   "cell_type": "code",
   "execution_count": 7,
   "id": "3abdaaf6",
   "metadata": {},
   "outputs": [],
   "source": [
    "bacon = [3.14, 'cat', 11, 'cat', True]"
   ]
  },
  {
   "cell_type": "markdown",
   "id": "b6d063e5",
   "metadata": {},
   "source": [
    "<b>Qus.6:</b>What is the value of bacon.index('cat')?"
   ]
  },
  {
   "cell_type": "code",
   "execution_count": 8,
   "id": "94ca1fc4",
   "metadata": {},
   "outputs": [
    {
     "data": {
      "text/plain": [
       "1"
      ]
     },
     "execution_count": 8,
     "metadata": {},
     "output_type": "execute_result"
    }
   ],
   "source": [
    "bacon.index('cat')"
   ]
  },
  {
   "cell_type": "markdown",
   "id": "f73c47df",
   "metadata": {},
   "source": [
    "<b>Qus.7:</b>How does bacon.append(99) change the look of the list value in bacon?"
   ]
  },
  {
   "cell_type": "code",
   "execution_count": 4,
   "id": "661c445b",
   "metadata": {},
   "outputs": [],
   "source": [
    "bacon = [3.14, 'cat', 11, 'cat', True]\n",
    "bacon.append(99)"
   ]
  },
  {
   "cell_type": "code",
   "execution_count": 5,
   "id": "3be3e7e1",
   "metadata": {},
   "outputs": [
    {
     "data": {
      "text/plain": [
       "[3.14, 'cat', 11, 'cat', True, 99]"
      ]
     },
     "execution_count": 5,
     "metadata": {},
     "output_type": "execute_result"
    }
   ],
   "source": [
    "bacon"
   ]
  },
  {
   "cell_type": "markdown",
   "id": "f7d65384",
   "metadata": {},
   "source": [
    "<b>Qus.8:</b>How does bacon.remove(&#39;cat&#39;) change the look of the list in bacon?"
   ]
  },
  {
   "cell_type": "code",
   "execution_count": 6,
   "id": "016febc2",
   "metadata": {},
   "outputs": [],
   "source": [
    "bacon.remove('cat') "
   ]
  },
  {
   "cell_type": "code",
   "execution_count": 7,
   "id": "3dd778f1",
   "metadata": {},
   "outputs": [
    {
     "data": {
      "text/plain": [
       "[3.14, 11, 'cat', True, 99]"
      ]
     },
     "execution_count": 7,
     "metadata": {},
     "output_type": "execute_result"
    }
   ],
   "source": [
    "bacon"
   ]
  },
  {
   "cell_type": "markdown",
   "id": "ef161433",
   "metadata": {},
   "source": [
    "<b>Qus.9:</b>What are the list concatenation and list replication operators?"
   ]
  },
  {
   "cell_type": "markdown",
   "id": "1740dc21",
   "metadata": {},
   "source": [
    "<b>Ans:</b>\n",
    "* concatenation operator : +\n",
    "* replication operator : *"
   ]
  },
  {
   "cell_type": "code",
   "execution_count": 10,
   "id": "874743f5",
   "metadata": {},
   "outputs": [
    {
     "data": {
      "text/plain": [
       "'ha5'"
      ]
     },
     "execution_count": 10,
     "metadata": {},
     "output_type": "execute_result"
    }
   ],
   "source": [
    "a = \"ha\"\n",
    "b = \"5\"\n",
    "a + b"
   ]
  },
  {
   "cell_type": "code",
   "execution_count": 12,
   "id": "86ff31c9",
   "metadata": {},
   "outputs": [
    {
     "data": {
      "text/plain": [
       "56"
      ]
     },
     "execution_count": 12,
     "metadata": {},
     "output_type": "execute_result"
    }
   ],
   "source": [
    "a = 7\n",
    "b = 8\n",
    "a * b"
   ]
  },
  {
   "cell_type": "markdown",
   "id": "cd4d59f8",
   "metadata": {},
   "source": [
    "<b>Qus.10:</b>What is difference between the list methods append() and insert()?"
   ]
  },
  {
   "cell_type": "markdown",
   "id": "0b324082",
   "metadata": {},
   "source": [
    "<b>Ans:</b>\n",
    "* append(): used to add element at the end or tail of a list.\n",
    "* insert() : used to add element at specific index in list."
   ]
  },
  {
   "cell_type": "code",
   "execution_count": 14,
   "id": "1a93e048",
   "metadata": {},
   "outputs": [
    {
     "name": "stdout",
     "output_type": "stream",
     "text": [
      "[3, 'hello', 45, 'python', 4]\n"
     ]
    }
   ],
   "source": [
    "l = [3, \"hello\", 45, \"python\"]\n",
    "l.append(4)\n",
    "print(l)"
   ]
  },
  {
   "cell_type": "code",
   "execution_count": 17,
   "id": "ab76af25",
   "metadata": {},
   "outputs": [
    {
     "name": "stdout",
     "output_type": "stream",
     "text": [
      "[3, 'hello', 45, 'haha', 'python']\n"
     ]
    }
   ],
   "source": [
    "l = [3, \"hello\", 45, \"python\"]\n",
    "l.insert(3, \"haha\")\n",
    "print(l)"
   ]
  },
  {
   "cell_type": "markdown",
   "id": "32e46455",
   "metadata": {},
   "source": [
    "<b>Qus.11:</b>What are the two methods for removing items from a list?"
   ]
  },
  {
   "cell_type": "markdown",
   "id": "0d3b0a85",
   "metadata": {},
   "source": [
    "<b>Ans:</b>\n",
    "* remove() : for any element by element\n",
    "* del keyword : for any element by index\n",
    "* pop() : for tail element"
   ]
  },
  {
   "cell_type": "code",
   "execution_count": 19,
   "id": "d69fa297",
   "metadata": {},
   "outputs": [
    {
     "name": "stdout",
     "output_type": "stream",
     "text": [
      "[3, 'hello', 'python']\n"
     ]
    }
   ],
   "source": [
    "l = [3, \"hello\", 45, \"python\"]\n",
    "l.remove(45)\n",
    "print(l)"
   ]
  },
  {
   "cell_type": "code",
   "execution_count": 21,
   "id": "880ee8f0",
   "metadata": {},
   "outputs": [
    {
     "name": "stdout",
     "output_type": "stream",
     "text": [
      "[3, 'hello', 45]\n"
     ]
    }
   ],
   "source": [
    "l = [3, \"hello\", 45, \"python\"]\n",
    "del l[3]\n",
    "print(l)"
   ]
  },
  {
   "cell_type": "code",
   "execution_count": 22,
   "id": "bebdeee8",
   "metadata": {},
   "outputs": [
    {
     "name": "stdout",
     "output_type": "stream",
     "text": [
      "[3, 'hello', 45]\n"
     ]
    }
   ],
   "source": [
    "l = [3, \"hello\", 45, \"python\"]\n",
    "l.pop()\n",
    "print(l)"
   ]
  },
  {
   "cell_type": "markdown",
   "id": "79e0d11f",
   "metadata": {},
   "source": [
    "<b>Qus.12:</b>Describe how list values and string values are identical."
   ]
  },
  {
   "cell_type": "markdown",
   "id": "1d71065c",
   "metadata": {},
   "source": [
    "<b>Ans:</b>Both stores data in a sequence, and both are iterables."
   ]
  },
  {
   "cell_type": "code",
   "execution_count": 25,
   "id": "64782eaf",
   "metadata": {},
   "outputs": [
    {
     "name": "stdout",
     "output_type": "stream",
     "text": [
      "h\n",
      "e\n",
      "l\n",
      "l\n",
      "o\n"
     ]
    }
   ],
   "source": [
    "s = \"hello\"\n",
    "l = [\"hello\", \"World!\"]\n",
    "for i in s:\n",
    "    print(i)    "
   ]
  },
  {
   "cell_type": "code",
   "execution_count": 27,
   "id": "7d443925",
   "metadata": {},
   "outputs": [
    {
     "name": "stdout",
     "output_type": "stream",
     "text": [
      "hello\n",
      "World!\n"
     ]
    }
   ],
   "source": [
    "for i in l:\n",
    "    print(i)"
   ]
  },
  {
   "cell_type": "markdown",
   "id": "4ef06392",
   "metadata": {},
   "source": [
    "<b>Qus.13:</b>What's the difference between tuples and lists?"
   ]
  },
  {
   "cell_type": "markdown",
   "id": "f38e1ee4",
   "metadata": {},
   "source": [
    "<b>Ans:</b>\n",
    "* Tuple: Tuple can stores collection of data. It represents with () and it is immutable.\n",
    "\n",
    "* List: List can stores collection of data. It represents with [] and it is mutable."
   ]
  },
  {
   "cell_type": "code",
   "execution_count": 28,
   "id": "0122c170",
   "metadata": {},
   "outputs": [
    {
     "data": {
      "text/plain": [
       "tuple"
      ]
     },
     "execution_count": 28,
     "metadata": {},
     "output_type": "execute_result"
    }
   ],
   "source": [
    "t = (\"hello\", \"World!\", 4)\n",
    "type(t)"
   ]
  },
  {
   "cell_type": "code",
   "execution_count": 29,
   "id": "35471594",
   "metadata": {},
   "outputs": [
    {
     "data": {
      "text/plain": [
       "list"
      ]
     },
     "execution_count": 29,
     "metadata": {},
     "output_type": "execute_result"
    }
   ],
   "source": [
    "l = [\"hello\", \"World!\", 4]\n",
    "type(l)"
   ]
  },
  {
   "cell_type": "markdown",
   "id": "0d417e53",
   "metadata": {},
   "source": [
    "<b>Qus.14:</b>How do you type a tuple value that only contains the integer 42?"
   ]
  },
  {
   "cell_type": "code",
   "execution_count": 41,
   "id": "53285e97",
   "metadata": {},
   "outputs": [
    {
     "name": "stdout",
     "output_type": "stream",
     "text": [
      "(42,)\n"
     ]
    },
    {
     "data": {
      "text/plain": [
       "tuple"
      ]
     },
     "execution_count": 41,
     "metadata": {},
     "output_type": "execute_result"
    }
   ],
   "source": [
    "t = (42, )\n",
    "print(t)\n",
    "type(t)"
   ]
  },
  {
   "cell_type": "markdown",
   "id": "d3ddb8cb",
   "metadata": {},
   "source": [
    "<b>Qus.15:</b>How do you get a list value's tuple form? How do you get a tuple value's list form?"
   ]
  },
  {
   "cell_type": "code",
   "execution_count": 40,
   "id": "9018ee3d",
   "metadata": {},
   "outputs": [
    {
     "data": {
      "text/plain": [
       "['hello', 45, 4, 6.5, True]"
      ]
     },
     "execution_count": 40,
     "metadata": {},
     "output_type": "execute_result"
    }
   ],
   "source": [
    "t = (\"hello\", 45, 4, 6.5, True)\n",
    "l = [\"hello\", \"World!\", 4]\n",
    "list(t)"
   ]
  },
  {
   "cell_type": "code",
   "execution_count": 39,
   "id": "e170662d",
   "metadata": {},
   "outputs": [
    {
     "data": {
      "text/plain": [
       "('hello', 'World!', 4)"
      ]
     },
     "execution_count": 39,
     "metadata": {},
     "output_type": "execute_result"
    }
   ],
   "source": [
    "tuple(l)"
   ]
  },
  {
   "cell_type": "markdown",
   "id": "6d873e7f",
   "metadata": {},
   "source": [
    "<b>Qus.16:</b>Variables that 'contain' list values are not necessarily lists themselves. Instead, what do they\n",
    "contain?"
   ]
  },
  {
   "cell_type": "markdown",
   "id": "4262abd2",
   "metadata": {},
   "source": [
    "<b>Ans:</b>variables contain reference to the list values instead of containing values in themselves"
   ]
  },
  {
   "cell_type": "markdown",
   "id": "01816cd9",
   "metadata": {},
   "source": [
    "<b>Qus.17:</b>How do you distinguish between copy.copy() and copy.deepcopy()?"
   ]
  },
  {
   "cell_type": "markdown",
   "id": "9d72adbe",
   "metadata": {},
   "source": [
    "<b>Ans:</b>\n",
    "* copy.copy() : Shallow copy or simply copy: it creates new list and repopulates new list with the reference to the child objects of the original list. Thus any change in new list is reflected into the original one. Method: copy.copy()\n",
    "* copy.deepcopy() : Deep copy it creates a new list and repopulates new list with the child objects of the original list. Thus any change in new list do not affect the original list. Method: copy.deepcopy()"
   ]
  },
  {
   "cell_type": "code",
   "execution_count": 53,
   "id": "833f1c67",
   "metadata": {},
   "outputs": [
    {
     "name": "stdout",
     "output_type": "stream",
     "text": [
      "[1, 2, 3, 4]\n",
      "[1, 2, 3, 4]\n"
     ]
    }
   ],
   "source": [
    "# Create a copy using a shallow copy\n",
    "import copy\n",
    "old_l  = [1, 2, 3, 4]\n",
    "new_l  = copy.copy(old_l )\n",
    "print(old_l )\n",
    "print(new_l)"
   ]
  },
  {
   "cell_type": "code",
   "execution_count": 3,
   "id": "a461d899",
   "metadata": {},
   "outputs": [
    {
     "name": "stdout",
     "output_type": "stream",
     "text": [
      "[1, 2, 3, 4]\n",
      "[1, 2, 3, 4]\n"
     ]
    }
   ],
   "source": [
    "#Copying a list using deepcopy()\n",
    "import copy\n",
    "old_l = [1, 2, 3, 4]\n",
    "new_l = copy.deepcopy(old_l)\n",
    "print(old_l)\n",
    "print(new_l)"
   ]
  },
  {
   "cell_type": "code",
   "execution_count": 2,
   "id": "a2e9152b",
   "metadata": {},
   "outputs": [
    {
     "name": "stdout",
     "output_type": "stream",
     "text": [
      "[1, 'hah', 3, 4]\n",
      "[1, 2, 3, 4]\n"
     ]
    }
   ],
   "source": [
    "#Adding a new object in the list\n",
    "#both lists are independent.\n",
    "import copy\n",
    "old_l = [1, 2, 3, 4]\n",
    "new_l = copy.deepcopy(old_l)\n",
    "old_l[1] = \"hah\"\n",
    "print(old_l)\n",
    "print(new_l)"
   ]
  }
 ],
 "metadata": {
  "kernelspec": {
   "display_name": "Python 3 (ipykernel)",
   "language": "python",
   "name": "python3"
  },
  "language_info": {
   "codemirror_mode": {
    "name": "ipython",
    "version": 3
   },
   "file_extension": ".py",
   "mimetype": "text/x-python",
   "name": "python",
   "nbconvert_exporter": "python",
   "pygments_lexer": "ipython3",
   "version": "3.9.12"
  }
 },
 "nbformat": 4,
 "nbformat_minor": 5
}
