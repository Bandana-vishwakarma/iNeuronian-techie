{
 "cells": [
  {
   "cell_type": "markdown",
   "id": "35dc1939",
   "metadata": {},
   "source": [
    "<b>Qus.1:</b>What are the two values of the Boolean data type? How do you write them?"
   ]
  },
  {
   "cell_type": "markdown",
   "id": "3c44bd08",
   "metadata": {},
   "source": [
    "<b>Ans:</b>\n",
    "* Boolean can have two values: true and false and we can write them as <b>True(1)</b> and     <b>False(0)</b>"
   ]
  },
  {
   "cell_type": "markdown",
   "id": "52813077",
   "metadata": {},
   "source": [
    "<b>Qus.2:</b>What are the three different types of Boolean operators?"
   ]
  },
  {
   "cell_type": "markdown",
   "id": "e4c9b61e",
   "metadata": {},
   "source": [
    "<b>Ans:</b>\n",
    "* and\n",
    "* not\n",
    "* or"
   ]
  },
  {
   "cell_type": "markdown",
   "id": "f7f38861",
   "metadata": {},
   "source": [
    "<b>Qus.3:</b>Make a list of each Boolean operator&#39;s truth tables (i.e. every possible combination of Boolean\n",
    "values for the operator and what it evaluate )."
   ]
  },
  {
   "cell_type": "markdown",
   "id": "eaba6987",
   "metadata": {},
   "source": [
    "<b>Ans:</b>"
   ]
  },
  {
   "cell_type": "markdown",
   "id": "dcadd9a3",
   "metadata": {},
   "source": [
    "* AND truth table"
   ]
  },
  {
   "cell_type": "markdown",
   "id": "71d66eea",
   "metadata": {},
   "source": [
    "|   x   | and  |   y   |result |\n",
    "| ---   | ---  | ---   | ---   |\n",
    "| True  | and  | True  | True  | \n",
    "| True  | and  | False | False |\n",
    "| False | and  | True  | False |\n",
    "| False | and  | False |False  |"
   ]
  },
  {
   "cell_type": "markdown",
   "id": "51d8977d",
   "metadata": {},
   "source": [
    "* OR truth table"
   ]
  },
  {
   "cell_type": "markdown",
   "id": "c905e9b2",
   "metadata": {},
   "source": [
    "|   x   | or  |   y   |result |\n",
    "| ---   | ---  | ---   | ---   |\n",
    "| True  | or  | True  | True  | \n",
    "| True  | or  | False | True |\n",
    "| False | or  | True  | True |\n",
    "| False | or  | False |False  |"
   ]
  },
  {
   "cell_type": "markdown",
   "id": "5a946cfb",
   "metadata": {},
   "source": [
    "* NOT truth table"
   ]
  },
  {
   "cell_type": "markdown",
   "id": "7f9eda8a",
   "metadata": {},
   "source": [
    "| Input |result |\n",
    "| ---   | ---   | \n",
    "| True  | False | \n",
    "| False | True  | "
   ]
  },
  {
   "cell_type": "markdown",
   "id": "27cf72dc",
   "metadata": {},
   "source": [
    "<b>Qus.4:</b>What are the values of the following expressions?\n",
    "(5 > 4) and (3 == 5)\n",
    "not (5 > 4)\n",
    "(5 > 4) or (3 == 5)\n",
    "not ((5 > 4) or (3 == 5))\n",
    "(True and True) and (True == False)\n",
    "(not False) or (not True)"
   ]
  },
  {
   "cell_type": "markdown",
   "id": "24f42c81",
   "metadata": {},
   "source": [
    "<b>Ans:</b>\n",
    "* (5 > 4) and (3 == 5) : <b>False</b>\n",
    "* not (5 > 4) : <b>False</b>\n",
    "* (5 > 4) or (3 == 5) : <b>True</b>\n",
    "* not ((5 > 4) or (3 == 5)) : <b>False</b>\n",
    "* (True and True) and (True == False) : <b>False</b>\n",
    "* (not False) or (not True) : <b>True</b>"
   ]
  },
  {
   "cell_type": "code",
   "execution_count": 1,
   "id": "31b433b9",
   "metadata": {},
   "outputs": [
    {
     "data": {
      "text/plain": [
       "False"
      ]
     },
     "execution_count": 1,
     "metadata": {},
     "output_type": "execute_result"
    }
   ],
   "source": [
    "(5 > 4) and (3 == 5)"
   ]
  },
  {
   "cell_type": "code",
   "execution_count": 2,
   "id": "5d6b3e5b",
   "metadata": {},
   "outputs": [
    {
     "data": {
      "text/plain": [
       "False"
      ]
     },
     "execution_count": 2,
     "metadata": {},
     "output_type": "execute_result"
    }
   ],
   "source": [
    "not (5 > 4)"
   ]
  },
  {
   "cell_type": "code",
   "execution_count": 3,
   "id": "1bac84a2",
   "metadata": {},
   "outputs": [
    {
     "data": {
      "text/plain": [
       "True"
      ]
     },
     "execution_count": 3,
     "metadata": {},
     "output_type": "execute_result"
    }
   ],
   "source": [
    "(5 > 4) or (3 == 5) "
   ]
  },
  {
   "cell_type": "code",
   "execution_count": 4,
   "id": "5dd79008",
   "metadata": {},
   "outputs": [
    {
     "data": {
      "text/plain": [
       "False"
      ]
     },
     "execution_count": 4,
     "metadata": {},
     "output_type": "execute_result"
    }
   ],
   "source": [
    "not ((5 > 4) or (3 == 5))"
   ]
  },
  {
   "cell_type": "code",
   "execution_count": 5,
   "id": "beb17df4",
   "metadata": {},
   "outputs": [
    {
     "data": {
      "text/plain": [
       "False"
      ]
     },
     "execution_count": 5,
     "metadata": {},
     "output_type": "execute_result"
    }
   ],
   "source": [
    "(True and True) and (True == False)"
   ]
  },
  {
   "cell_type": "code",
   "execution_count": 6,
   "id": "092db421",
   "metadata": {},
   "outputs": [
    {
     "data": {
      "text/plain": [
       "True"
      ]
     },
     "execution_count": 6,
     "metadata": {},
     "output_type": "execute_result"
    }
   ],
   "source": [
    "(not False) or (not True)"
   ]
  },
  {
   "cell_type": "markdown",
   "id": "19211217",
   "metadata": {},
   "source": [
    "<b>Qus.5:</b>What are the six comparison operators?"
   ]
  },
  {
   "cell_type": "markdown",
   "id": "982fe781",
   "metadata": {},
   "source": [
    "<b>Ans:</b>\n",
    "* Equal to (==)\n",
    "* Less than (<)\n",
    "* Greater than (>)\n",
    "* Not equal to (!=)\n",
    "* Less than equal to (<=)\n",
    "*  Greater than equal to (>=)"
   ]
  },
  {
   "cell_type": "markdown",
   "id": "14a60680",
   "metadata": {},
   "source": [
    "<b>Qus.6:</b>How do you tell the difference between the equal to and assignment operators?Describe a\n",
    "condition and when you would use one."
   ]
  },
  {
   "cell_type": "markdown",
   "id": "fe77914c",
   "metadata": {},
   "source": [
    "<b>Ans:</b>\n",
    "* '==' is a equal to operator that compares two values and evaluates to the boolean.\n",
    "* Examples: 5==5, a==b\n",
    "* '=' is a assignment operator that stores a value in a variable.\n",
    "* Examples: a = 5, b =9"
   ]
  },
  {
   "cell_type": "markdown",
   "id": "7728d942",
   "metadata": {},
   "source": [
    "<b>Qus.7:</b>Identify the three blocks in this code:\n",
    "spam = 0\n",
    "if spam == 10:\n",
    "print('eggs')\n",
    "if spam > 5:\n",
    "print('bacon')\n",
    "else:\n",
    "print('ham')\n",
    "print('spam')\n",
    "print('spam')"
   ]
  },
  {
   "cell_type": "code",
   "execution_count": 8,
   "id": "5216fa35",
   "metadata": {},
   "outputs": [
    {
     "name": "stdout",
     "output_type": "stream",
     "text": [
      "ham\n",
      "spam\n",
      "spam\n"
     ]
    }
   ],
   "source": [
    "spam = 0\n",
    "\n",
    "#block1\n",
    "if spam == 10:\n",
    "    print('eggs')\n",
    "\n",
    "#block2\n",
    "if spam > 5:\n",
    "    print('bacon')\n",
    "\n",
    "#block3\n",
    "else:\n",
    "    print('ham')\n",
    "    print('spam')\n",
    "    print('spam')"
   ]
  },
  {
   "cell_type": "markdown",
   "id": "e0fba10d",
   "metadata": {},
   "source": [
    "<b>Qus.8:</b>Write code that prints Hello if 1 is stored in spam, prints Howdy if 2 is stored in spam, and prints\n",
    "Greetings! if anything else is stored in spam."
   ]
  },
  {
   "cell_type": "code",
   "execution_count": 18,
   "id": "86e4b6bf",
   "metadata": {
    "scrolled": true
   },
   "outputs": [
    {
     "name": "stdout",
     "output_type": "stream",
     "text": [
      "Enter the number:3\n",
      "Greetings! \n"
     ]
    }
   ],
   "source": [
    "spam = int(input(\"Enter the number:\"))\n",
    "\n",
    "if spam == 1:\n",
    "    print(\"Hello\")   \n",
    "if spam == 2:\n",
    "    print(\"Howdy\")   \n",
    "else:\n",
    "    print(\"Greetings! \")"
   ]
  },
  {
   "cell_type": "markdown",
   "id": "6c6799b5",
   "metadata": {},
   "source": [
    "<b>Qus.9:</b>If your programme is stuck in an endless loop, what keys you’ll press?"
   ]
  },
  {
   "cell_type": "markdown",
   "id": "34404535",
   "metadata": {},
   "source": [
    "<b>Ans:</b>\n",
    "ctrl+c"
   ]
  },
  {
   "cell_type": "markdown",
   "id": "7fefa250",
   "metadata": {},
   "source": [
    "<b>Qus.10:</b>How can you tell the difference between break and continue?"
   ]
  },
  {
   "cell_type": "markdown",
   "id": "30634ae8",
   "metadata": {},
   "source": [
    "<b>Ans:</b>\n",
    "* break terminates the loop execution and get to next loop or next block of code outside the loop.\n",
    "* continue skips the current iteration and executes the next iteration."
   ]
  },
  {
   "cell_type": "markdown",
   "id": "5f7e1e21",
   "metadata": {},
   "source": [
    "<b>Qus.11:</b>In a for loop, what is the difference between range(10), range(0, 10), and range(0, 10, 1)?"
   ]
  },
  {
   "cell_type": "markdown",
   "id": "312e6fd2",
   "metadata": {},
   "source": [
    "<b>Ans:</b>\n",
    "* range(10) : generates a list of 10 values(0, 1, 2, 3, 4, 5, 6, 7, 8, 9)\n",
    "* range(0, 10) : generates 9 iterables starting from 0 {in general range(a, n) generates iterables from a to n - 1}\n",
    "* range(0, 10, 1) :  generates 9 iterables starting from 0 {in general range(start, stop, step) generates iterables from start to stop - 1 with iteration of step}"
   ]
  },
  {
   "cell_type": "markdown",
   "id": "25ea2c0d",
   "metadata": {},
   "source": [
    "<b>Qus.12:</b>Write a short program that prints the numbers 1 to 10 using a for loop. Then write an equivalent\n",
    "program that prints the numbers 1 to 10 using a while loop."
   ]
  },
  {
   "cell_type": "code",
   "execution_count": 28,
   "id": "57ef07b0",
   "metadata": {},
   "outputs": [
    {
     "name": "stdout",
     "output_type": "stream",
     "text": [
      "0\n",
      "1\n",
      "2\n",
      "3\n",
      "4\n",
      "5\n",
      "6\n",
      "7\n",
      "8\n",
      "9\n",
      "10\n"
     ]
    }
   ],
   "source": [
    "for i in range(11):\n",
    "    print(i)"
   ]
  },
  {
   "cell_type": "code",
   "execution_count": 27,
   "id": "628197f0",
   "metadata": {
    "scrolled": true
   },
   "outputs": [
    {
     "name": "stdout",
     "output_type": "stream",
     "text": [
      "0\n",
      "1\n",
      "2\n",
      "3\n",
      "4\n",
      "5\n",
      "6\n",
      "7\n",
      "8\n",
      "9\n",
      "10\n"
     ]
    }
   ],
   "source": [
    "i = 0\n",
    "while i<11:\n",
    "    print(i)\n",
    "    i += 1"
   ]
  },
  {
   "cell_type": "markdown",
   "id": "4104e103",
   "metadata": {},
   "source": [
    "<b>Qus.13:</b>If you had a function named bacon() inside a module named spam, how would you call it after\n",
    "importing spam?"
   ]
  },
  {
   "cell_type": "markdown",
   "id": "bb0df5cb",
   "metadata": {},
   "source": [
    "<b>Ans:</b>import spam\n",
    "spam.bacon()"
   ]
  }
 ],
 "metadata": {
  "kernelspec": {
   "display_name": "Python 3 (ipykernel)",
   "language": "python",
   "name": "python3"
  },
  "language_info": {
   "codemirror_mode": {
    "name": "ipython",
    "version": 3
   },
   "file_extension": ".py",
   "mimetype": "text/x-python",
   "name": "python",
   "nbconvert_exporter": "python",
   "pygments_lexer": "ipython3",
   "version": "3.9.12"
  }
 },
 "nbformat": 4,
 "nbformat_minor": 5
}
