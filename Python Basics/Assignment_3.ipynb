{
 "cells": [
  {
   "cell_type": "markdown",
   "id": "8ef0d377",
   "metadata": {},
   "source": [
    "<b>Qus.1:</b>Why are functions advantageous to have in your programs?"
   ]
  },
  {
   "cell_type": "markdown",
   "id": "453aa3c6",
   "metadata": {},
   "source": [
    "<b>Ans:</b>When we need to code, employing functions is crucial since it allows us to make our code reusable and reduce the number of times we need to produce the same thing. We can only create one and then use it as needed. Based on coding and math the function is simple to read and comprehend and is straightforward to test."
   ]
  },
  {
   "cell_type": "markdown",
   "id": "e673cf24",
   "metadata": {},
   "source": [
    "<b>Qus.2:</b>When does the code in a function run: when it's specified or when it's called?"
   ]
  },
  {
   "cell_type": "markdown",
   "id": "d7b20ef2",
   "metadata": {},
   "source": [
    "<b>Ans:</b>When it's called."
   ]
  },
  {
   "cell_type": "markdown",
   "id": "1ca4935f",
   "metadata": {},
   "source": [
    "<b>Qus.3:</b>What statement creates a function?"
   ]
  },
  {
   "cell_type": "markdown",
   "id": "5e738902",
   "metadata": {},
   "source": [
    "<b>Ans:</b>\n",
    "* To create a function we first declare it and give it a name.\n",
    "\n",
    "* The <b>def</b> keyword is a statement for defining a function in Python.\n",
    "\n",
    "* You start a function with the def keyword, specify a name followed by a colon (:) sign.The “def” call creates the function object and assigns it to the name given."
   ]
  },
  {
   "cell_type": "code",
   "execution_count": 12,
   "id": "0c283191",
   "metadata": {},
   "outputs": [],
   "source": [
    "def my_func(a, b):\n",
    "    pass"
   ]
  },
  {
   "cell_type": "markdown",
   "id": "2064bd3e",
   "metadata": {},
   "source": [
    "<b>Qus.4:</b>What is the difference between a function and a function call?"
   ]
  },
  {
   "cell_type": "markdown",
   "id": "d541a685",
   "metadata": {},
   "source": [
    "<b>Ans:</b>\n",
    "* A function is a block of code that does a particular operation and returns a result. It usually accepts inputs as parameters and returns a result.\n",
    "* When a program calls a function, the program control is transferred to the called function. A called function performs a defined task and when its return statement is executed or when its function-ending closing brace is reached, it returns the program control back to the main program."
   ]
  },
  {
   "cell_type": "code",
   "execution_count": 2,
   "id": "4025db09",
   "metadata": {},
   "outputs": [
    {
     "data": {
      "text/plain": [
       "6"
      ]
     },
     "execution_count": 2,
     "metadata": {},
     "output_type": "execute_result"
    }
   ],
   "source": [
    "#function definition\n",
    "def my_func(a, b):\n",
    "    return a+b\n",
    "\n",
    "#function calls\n",
    "my_func(2, 4)"
   ]
  },
  {
   "cell_type": "markdown",
   "id": "05c9cd5f",
   "metadata": {},
   "source": [
    "<b>Qus.5:</b>How many global scopes are there in a Python program? How many local scopes?"
   ]
  },
  {
   "cell_type": "markdown",
   "id": "bb765cf5",
   "metadata": {},
   "source": [
    "<b>Ans:</b>There is only one Global scope in python and local scope is many."
   ]
  },
  {
   "cell_type": "markdown",
   "id": "8f22ab5a",
   "metadata": {},
   "source": [
    "<b>Qus.6:</b>What happens to variables in a local scope when the function call returns?"
   ]
  },
  {
   "cell_type": "markdown",
   "id": "4d10657e",
   "metadata": {},
   "source": [
    "<b>Ans:</b>The local variables are destroyed."
   ]
  },
  {
   "cell_type": "markdown",
   "id": "96ade08e",
   "metadata": {},
   "source": [
    "<b>Qus.7:</b>What is the concept of a return value? Is it possible to have a return value in an expression?"
   ]
  },
  {
   "cell_type": "markdown",
   "id": "9b118edb",
   "metadata": {},
   "source": [
    "<b>Ans:</b>\n",
    "* return ends the execution of the function and returns or outputs the result that function has produced.\n",
    "\n",
    "* Yes return value can be stored in an variable and later used in an expression."
   ]
  },
  {
   "cell_type": "code",
   "execution_count": 3,
   "id": "f133509e",
   "metadata": {},
   "outputs": [],
   "source": [
    "def my_func(a, b):\n",
    "    return a+b\n",
    "\n",
    "c = my_func(4, 5) + 2"
   ]
  },
  {
   "cell_type": "code",
   "execution_count": 4,
   "id": "23dffa79",
   "metadata": {},
   "outputs": [
    {
     "data": {
      "text/plain": [
       "11"
      ]
     },
     "execution_count": 4,
     "metadata": {},
     "output_type": "execute_result"
    }
   ],
   "source": [
    "c"
   ]
  },
  {
   "cell_type": "markdown",
   "id": "441baff9",
   "metadata": {},
   "source": [
    "<b>Qus.8:</b>If a function does not have a return statement, what is the return value of a call to that function?"
   ]
  },
  {
   "cell_type": "markdown",
   "id": "74c1ceb2",
   "metadata": {},
   "source": [
    "<b>Ans:</b>NoneType"
   ]
  },
  {
   "cell_type": "code",
   "execution_count": 8,
   "id": "fd53fb8d",
   "metadata": {},
   "outputs": [
    {
     "data": {
      "text/plain": [
       "NoneType"
      ]
     },
     "execution_count": 8,
     "metadata": {},
     "output_type": "execute_result"
    }
   ],
   "source": [
    "def my_func(a, b):\n",
    "    c = a+b\n",
    "    \n",
    "type(my_func(5, 7))"
   ]
  },
  {
   "cell_type": "markdown",
   "id": "17742caf",
   "metadata": {},
   "source": [
    "<b>Qus.9:</b>How do you make a function variable refer to the global variable?"
   ]
  },
  {
   "cell_type": "code",
   "execution_count": 11,
   "id": "832c3174",
   "metadata": {},
   "outputs": [
    {
     "data": {
      "text/plain": [
       "16"
      ]
     },
     "execution_count": 11,
     "metadata": {},
     "output_type": "execute_result"
    }
   ],
   "source": [
    "a = 8\n",
    "def my_func():\n",
    "    global a\n",
    "    a = 15\n",
    "    x = a+1\n",
    "    return x\n",
    "\n",
    "my_func()"
   ]
  },
  {
   "cell_type": "markdown",
   "id": "d6760799",
   "metadata": {},
   "source": [
    "<b>Qus.10:</b>What is the data type of None?"
   ]
  },
  {
   "cell_type": "markdown",
   "id": "c321f566",
   "metadata": {},
   "source": [
    "<b>Ans:</b> None is a data type of its own <b>(NoneType)</b> and only None can be None."
   ]
  },
  {
   "cell_type": "markdown",
   "id": "eb8fcbac",
   "metadata": {},
   "source": [
    "<b>Qus.11:</b>What does the sentence import areallyourpetsnamederic do?"
   ]
  },
  {
   "cell_type": "markdown",
   "id": "035f3b4f",
   "metadata": {},
   "source": [
    "<b>Ans:</b>It makes all the class and methods of a module available into the place where it is being imported."
   ]
  },
  {
   "cell_type": "markdown",
   "id": "de6d2ed8",
   "metadata": {},
   "source": [
    "<b>Qus.12:</b>If you had a bacon() feature in a spam module, what would you call it after importing spam?"
   ]
  },
  {
   "cell_type": "markdown",
   "id": "2c79b52d",
   "metadata": {},
   "source": [
    "<b>Ans:</b>\n",
    "\n",
    "import spam\n",
    "\n",
    "spam.bacon()"
   ]
  },
  {
   "cell_type": "markdown",
   "id": "c35369ca",
   "metadata": {},
   "source": [
    "<b>Qus.13:</b>What can you do to save a programme from crashing if it encounters an error?"
   ]
  },
  {
   "cell_type": "markdown",
   "id": "789f4bea",
   "metadata": {},
   "source": [
    "<b>Ans:</b>We can use exception handling to tackle such problem. If any error occurs we can provide alternate logic or simply pass it using the 'pass' keyword.\n",
    "\n",
    "To implement exception handling we would use 'try except and finally' blocks."
   ]
  },
  {
   "cell_type": "markdown",
   "id": "d27c3bc7",
   "metadata": {},
   "source": [
    "<b>Qus.14:</b>What is the purpose of the try clause? What is the purpose of the except clause?"
   ]
  },
  {
   "cell_type": "markdown",
   "id": "82670067",
   "metadata": {},
   "source": [
    "<b>Ans:</b>\n",
    "* try : the code in this block is executed first and if any error or exception in general don't happen control will pass to the next line in code without execution of the except block.\n",
    "\n",
    "* except: the code in this block is executed only if their is some exception or error in the code of the try block."
   ]
  }
 ],
 "metadata": {
  "kernelspec": {
   "display_name": "Python 3 (ipykernel)",
   "language": "python",
   "name": "python3"
  },
  "language_info": {
   "codemirror_mode": {
    "name": "ipython",
    "version": 3
   },
   "file_extension": ".py",
   "mimetype": "text/x-python",
   "name": "python",
   "nbconvert_exporter": "python",
   "pygments_lexer": "ipython3",
   "version": "3.9.12"
  }
 },
 "nbformat": 4,
 "nbformat_minor": 5
}
