{
 "cells": [
  {
   "cell_type": "markdown",
   "id": "2f10802b",
   "metadata": {},
   "source": [
    "<b>Q.1:</b> To what does a relative path refer?"
   ]
  },
  {
   "cell_type": "markdown",
   "id": "b871919a",
   "metadata": {},
   "source": [
    "<b>Ans:</b> A relative path in Python is a path that describes the location of a directory relative to the entry point where you run the Python script. "
   ]
  },
  {
   "cell_type": "markdown",
   "id": "57e1549c",
   "metadata": {},
   "source": [
    "<b>Q.2:</b> What does an absolute path start with your operating system?"
   ]
  },
  {
   "cell_type": "markdown",
   "id": "caf811b2",
   "metadata": {},
   "source": [
    "<b>Ans:</b> absolute path means location with respect to root\n",
    "\n",
    "On windows system it is something like C:\\Users\\User_name\\"
   ]
  },
  {
   "cell_type": "markdown",
   "id": "ee8bcbde",
   "metadata": {},
   "source": [
    "<b>Q.3:</b>  What do the functions os.getcwd() and os.chdir() do?"
   ]
  },
  {
   "cell_type": "markdown",
   "id": "2176d91a",
   "metadata": {},
   "source": [
    "<b>Ans:</b> \n",
    " * os.getcwd(): returns the current working directory in which we are currently.\n",
    " \n",
    "* os.chdir(): used to change the current working directory to another one."
   ]
  },
  {
   "cell_type": "code",
   "execution_count": 1,
   "id": "92eddb3c",
   "metadata": {},
   "outputs": [
    {
     "data": {
      "text/plain": [
       "'C:\\\\Users\\\\Vandana'"
      ]
     },
     "execution_count": 1,
     "metadata": {},
     "output_type": "execute_result"
    }
   ],
   "source": [
    "import os\n",
    "os.getcwd()\n"
   ]
  },
  {
   "cell_type": "markdown",
   "id": "c89fa81a",
   "metadata": {},
   "source": [
    "<b>Q.4:</b> What are the . and .. folders?"
   ]
  },
  {
   "cell_type": "markdown",
   "id": "a0c12244",
   "metadata": {},
   "source": [
    "<b>Ans:</b> \n",
    "* . is used to pass the current working directory as argument in windows and used to execute a file in the current working directory in the linux.\n",
    "\n",
    "* .. is used to move one level up in the directory\n"
   ]
  },
  {
   "cell_type": "markdown",
   "id": "cd9869e8",
   "metadata": {},
   "source": [
    "<b>Q.5:</b> In C:\\bacon\\eggs\\spam.txt, which part is the dir name, and which part is the base name?"
   ]
  },
  {
   "cell_type": "markdown",
   "id": "ddab7d24",
   "metadata": {},
   "source": [
    "<b>Ans:</b>  \n",
    "* Directory names: C:\\bacon\\eggs\n",
    "* Base name: spam.txt"
   ]
  },
  {
   "cell_type": "markdown",
   "id": "12ab712b",
   "metadata": {},
   "source": [
    "<b>Q.6:</b> What are the three “mode” arguments that can be passed to the open() function?"
   ]
  },
  {
   "cell_type": "markdown",
   "id": "7d4c47d8",
   "metadata": {},
   "source": [
    "<b>Ans:</b> There are more than three modes available to open a file using the open method. Main of them are:\n",
    "\n",
    "* r: Opens the file in read-only mode.\n",
    "* rb: Opens the file as read-only in binary format.\n",
    "* r+: Opens a file for reading and writing.\n",
    "* w: Opens in write-only mode.\n",
    "* wb: Opens a write-only file in binary mode.\n",
    "* w+: Opens a file for writing and reading.\n",
    "* wb+: Opens a file for writing and reading in binary mode."
   ]
  },
  {
   "cell_type": "markdown",
   "id": "735af5b3",
   "metadata": {},
   "source": [
    "<b>Q.7:</b> What happens if an existing file is opened in write mode?"
   ]
  },
  {
   "cell_type": "markdown",
   "id": "8179513c",
   "metadata": {},
   "source": [
    "<b>Ans:</b> All the data within the file get deleted."
   ]
  },
  {
   "cell_type": "markdown",
   "id": "d44724df",
   "metadata": {},
   "source": [
    "<b>Q.8:</b> How do you tell the difference between read() and readlines()?"
   ]
  },
  {
   "cell_type": "markdown",
   "id": "2f49b116",
   "metadata": {},
   "source": [
    "<b>Ans:</b>\n",
    "* read() : it returns all the lines of file as single long string.\n",
    "* readlines(): it returns all the lines of file as list of strings where each string is a different line."
   ]
  },
  {
   "cell_type": "markdown",
   "id": "389bea98",
   "metadata": {},
   "source": [
    "<b>Q.9:</b> What data structure does a shelf value resemble?"
   ]
  },
  {
   "cell_type": "markdown",
   "id": "1b7851d1",
   "metadata": {},
   "source": [
    "<b>Ans:</b> dictionary"
   ]
  }
 ],
 "metadata": {
  "kernelspec": {
   "display_name": "Python 3 (ipykernel)",
   "language": "python",
   "name": "python3"
  },
  "language_info": {
   "codemirror_mode": {
    "name": "ipython",
    "version": 3
   },
   "file_extension": ".py",
   "mimetype": "text/x-python",
   "name": "python",
   "nbconvert_exporter": "python",
   "pygments_lexer": "ipython3",
   "version": "3.9.12"
  }
 },
 "nbformat": 4,
 "nbformat_minor": 5
}
