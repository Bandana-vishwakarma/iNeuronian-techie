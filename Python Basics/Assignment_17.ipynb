{
 "cells": [
  {
   "cell_type": "markdown",
   "id": "49530c09",
   "metadata": {},
   "source": [
    "<b>Q.1:</b> Assign the value 7 to the variable guess_me. Then, write the conditional tests (if, else, and elif) to\n",
    "print the string 'too low' if guess_me is less than 7, 'too high' if greater than 7, and 'just right' if equal\n",
    "to 7."
   ]
  },
  {
   "cell_type": "code",
   "execution_count": 1,
   "id": "b6b5897e",
   "metadata": {},
   "outputs": [
    {
     "name": "stdout",
     "output_type": "stream",
     "text": [
      "just right\n"
     ]
    }
   ],
   "source": [
    "guess_me = 7\n",
    "if guess_me<7:\n",
    "    print('too low')\n",
    "    \n",
    "elif guess_me>7:\n",
    "    print('too high')\n",
    "\n",
    "else:\n",
    "    print('just right')"
   ]
  },
  {
   "cell_type": "markdown",
   "id": "dea7987c",
   "metadata": {},
   "source": [
    "<b>Q.2:</b> Assign the value 7 to the variable guess_me and the value 1 to the variable start. Write a while\n",
    "loop that compares start with guess_me. Print too low if start is less than guess me. If start equals\n",
    "guess_me, print 'found it!' and exit the loop. If start is greater than guess_me, print 'oops' and exit\n",
    "the loop. Increment start at the end of the loop."
   ]
  },
  {
   "cell_type": "code",
   "execution_count": 2,
   "id": "5a7c01f5",
   "metadata": {},
   "outputs": [
    {
     "name": "stdout",
     "output_type": "stream",
     "text": [
      "too low\n",
      "too low\n",
      "too low\n",
      "too low\n",
      "too low\n",
      "too low\n",
      "found it!\n"
     ]
    }
   ],
   "source": [
    "guess_me = 7\n",
    "start = 1\n",
    "\n",
    "while True:\n",
    "    if start<guess_me:\n",
    "        print('too low')\n",
    "        \n",
    "    elif start == guess_me:\n",
    "        print('found it!')\n",
    "        break\n",
    "    \n",
    "    else:\n",
    "        print('oops')\n",
    "        break\n",
    "    \n",
    "    start = start+1"
   ]
  },
  {
   "cell_type": "markdown",
   "id": "c12a1d20",
   "metadata": {},
   "source": [
    "<b>Q.3:</b> Print the following values of the list [3, 2, 1, 0] using a for loop."
   ]
  },
  {
   "cell_type": "code",
   "execution_count": 5,
   "id": "a194ea66",
   "metadata": {},
   "outputs": [
    {
     "name": "stdout",
     "output_type": "stream",
     "text": [
      "3\n",
      "2\n",
      "1\n",
      "0\n"
     ]
    }
   ],
   "source": [
    "l =  [3, 2, 1, 0] \n",
    "for i in l:\n",
    "    print(i)"
   ]
  },
  {
   "cell_type": "markdown",
   "id": "6d974517",
   "metadata": {},
   "source": [
    "<b>Q.4:</b> Use a list comprehension to make a list of the even numbers in range(10)"
   ]
  },
  {
   "cell_type": "code",
   "execution_count": 8,
   "id": "b946ed8a",
   "metadata": {},
   "outputs": [
    {
     "name": "stdout",
     "output_type": "stream",
     "text": [
      "[2, 4, 6, 8]\n"
     ]
    }
   ],
   "source": [
    "even_num = [number for number in range(10) if number % 2 == 0 and number > 0]\n",
    "print(even_num)"
   ]
  },
  {
   "cell_type": "markdown",
   "id": "5877873f",
   "metadata": {},
   "source": [
    "<b>Q.5:</b> Use a dictionary comprehension to create the dictionary squares. Use range(10) to return the\n",
    "keys, and use the square of each key as its value."
   ]
  },
  {
   "cell_type": "code",
   "execution_count": 10,
   "id": "3cecf801",
   "metadata": {},
   "outputs": [
    {
     "name": "stdout",
     "output_type": "stream",
     "text": [
      "{0: 0, 1: 1, 2: 4, 3: 9, 4: 16, 5: 25, 6: 36, 7: 49, 8: 64, 9: 81}\n"
     ]
    }
   ],
   "source": [
    "squares = {number : number ** 2 for number in range(10)}\n",
    "print(squares)"
   ]
  },
  {
   "cell_type": "markdown",
   "id": "cb491cb0",
   "metadata": {},
   "source": [
    "<b>Q.6:</b> Construct the set odd from the odd numbers in the range using a set comprehension (10)."
   ]
  },
  {
   "cell_type": "code",
   "execution_count": 11,
   "id": "11193a2a",
   "metadata": {},
   "outputs": [
    {
     "name": "stdout",
     "output_type": "stream",
     "text": [
      "<generator object <genexpr> at 0x000001F637A56C10>\n"
     ]
    }
   ],
   "source": [
    "oddSet = (number for number in range(10) if number % 2 == 0 and number > 0)\n",
    "print(oddSet)"
   ]
  },
  {
   "cell_type": "code",
   "execution_count": 12,
   "id": "2ecfa343",
   "metadata": {},
   "outputs": [
    {
     "name": "stdout",
     "output_type": "stream",
     "text": [
      "2\n",
      "4\n",
      "6\n",
      "8\n"
     ]
    }
   ],
   "source": [
    "for i in oddSet:\n",
    "    print(i)"
   ]
  },
  {
   "cell_type": "markdown",
   "id": "630e88fd",
   "metadata": {},
   "source": [
    "<b>Q.7:</b> Use a generator comprehension to return the string 'Got' and a number for the numbers in\n",
    "range(10). Iterate through this by using a for loop."
   ]
  },
  {
   "cell_type": "code",
   "execution_count": 13,
   "id": "7a55ffbb",
   "metadata": {},
   "outputs": [
    {
     "name": "stdout",
     "output_type": "stream",
     "text": [
      "<generator object <genexpr> at 0x000001F637A56B30>\n"
     ]
    }
   ],
   "source": [
    "genObject = ('Got' + str(num) for num in range(10))\n",
    "print(genObject)"
   ]
  },
  {
   "cell_type": "code",
   "execution_count": 14,
   "id": "969dd945",
   "metadata": {},
   "outputs": [
    {
     "name": "stdout",
     "output_type": "stream",
     "text": [
      "Got0\n",
      "Got1\n",
      "Got2\n",
      "Got3\n",
      "Got4\n",
      "Got5\n",
      "Got6\n",
      "Got7\n",
      "Got8\n",
      "Got9\n"
     ]
    }
   ],
   "source": [
    "for i in genObject:\n",
    "    print(i)"
   ]
  },
  {
   "cell_type": "markdown",
   "id": "a1953ec4",
   "metadata": {},
   "source": [
    "<b>Q.8:</b> 8. Define a function called good that returns the list ['Harry', 'Ron', 'Hermione']."
   ]
  },
  {
   "cell_type": "code",
   "execution_count": 17,
   "id": "4e7fe4c0",
   "metadata": {},
   "outputs": [
    {
     "data": {
      "text/plain": [
       "['Harry', 'Ron', 'Hermione']"
      ]
     },
     "execution_count": 17,
     "metadata": {},
     "output_type": "execute_result"
    }
   ],
   "source": [
    "def good():\n",
    "        return ['Harry', 'Ron', 'Hermione']\n",
    "\n",
    "good()"
   ]
  },
  {
   "cell_type": "markdown",
   "id": "27659097",
   "metadata": {},
   "source": [
    "<b>Q.9:</b>  Define a generator function called get_odds that returns the odd numbers from range(10). Use a\n",
    "for loop to find and print the third value returned."
   ]
  },
  {
   "cell_type": "code",
   "execution_count": 50,
   "id": "8a43718e",
   "metadata": {},
   "outputs": [
    {
     "name": "stdout",
     "output_type": "stream",
     "text": [
      "1\n",
      "3\n",
      "5\n",
      "7\n",
      "9\n"
     ]
    }
   ],
   "source": [
    "def get_odds():\n",
    "    return (number for number in range(10) if number % 2 != 0 and number > 0  )     \n",
    "\n",
    "get_odds()  \n",
    "\n",
    "objIterator = get_odds()\n",
    "for item in objIterator:\n",
    "    print(item)"
   ]
  },
  {
   "cell_type": "markdown",
   "id": "495ef1e6",
   "metadata": {},
   "source": [
    "<b>Q.10:</b> Define an exception called OopsException. Raise this exception to see what happens. Then write\n",
    "the code to catch this exception and print 'Caught an oops'."
   ]
  },
  {
   "cell_type": "code",
   "execution_count": 53,
   "id": "f2d211e6",
   "metadata": {},
   "outputs": [
    {
     "ename": "OopsException",
     "evalue": "5",
     "output_type": "error",
     "traceback": [
      "\u001b[1;31m---------------------------------------------------------------------------\u001b[0m",
      "\u001b[1;31mOopsException\u001b[0m                             Traceback (most recent call last)",
      "Input \u001b[1;32mIn [53]\u001b[0m, in \u001b[0;36m<cell line: 9>\u001b[1;34m()\u001b[0m\n\u001b[0;32m      6\u001b[0m     \u001b[38;5;28;01mif\u001b[39;00m a \u001b[38;5;241m<\u001b[39m \u001b[38;5;241m10\u001b[39m:\n\u001b[0;32m      7\u001b[0m         \u001b[38;5;28;01mraise\u001b[39;00m OopsException(a)\n\u001b[1;32m----> 9\u001b[0m \u001b[43mwith_exception\u001b[49m\u001b[43m(\u001b[49m\u001b[38;5;241;43m5\u001b[39;49m\u001b[43m)\u001b[49m\n",
      "Input \u001b[1;32mIn [53]\u001b[0m, in \u001b[0;36mwith_exception\u001b[1;34m(a)\u001b[0m\n\u001b[0;32m      5\u001b[0m \u001b[38;5;28;01mdef\u001b[39;00m \u001b[38;5;21mwith_exception\u001b[39m(a):\n\u001b[0;32m      6\u001b[0m     \u001b[38;5;28;01mif\u001b[39;00m a \u001b[38;5;241m<\u001b[39m \u001b[38;5;241m10\u001b[39m:\n\u001b[1;32m----> 7\u001b[0m         \u001b[38;5;28;01mraise\u001b[39;00m OopsException(a)\n",
      "\u001b[1;31mOopsException\u001b[0m: 5"
     ]
    }
   ],
   "source": [
    "# Defined exception\n",
    "class OopsException(Exception):\n",
    "    pass\n",
    "\n",
    "def with_exception(a):\n",
    "    if a < 10:\n",
    "        raise OopsException(a)\n",
    "\n",
    "with_exception(5)        "
   ]
  },
  {
   "cell_type": "code",
   "execution_count": 54,
   "id": "8476a43f",
   "metadata": {},
   "outputs": [
    {
     "name": "stdout",
     "output_type": "stream",
     "text": [
      "Caught an Oops!\n"
     ]
    }
   ],
   "source": [
    "try: \n",
    "    with_exception(5)\n",
    "except OopsException as e:\n",
    "    print('Caught an Oops!')"
   ]
  },
  {
   "cell_type": "markdown",
   "id": "1781f48f",
   "metadata": {},
   "source": [
    "<b>Q.11:</b> Use zip() to make a dictionary called movies that pairs these lists: titles = ['Creature of Habit',\n",
    "'Crewel Fate'] and plots = ['A nun turns into a monster', 'A haunted yarn shop']."
   ]
  },
  {
   "cell_type": "code",
   "execution_count": 55,
   "id": "09dccbbc",
   "metadata": {},
   "outputs": [
    {
     "name": "stdout",
     "output_type": "stream",
     "text": [
      "{'Creature of Habit': 'A nun turns into a monster', 'Crewel Fate': 'A haunted tarn shop'}\n"
     ]
    }
   ],
   "source": [
    "# given lists\n",
    "titles = ['Creature of Habit', 'Crewel Fate']\n",
    "plots = ['A nun turns into a monster', 'A haunted tarn shop']\n",
    "\n",
    "# zipping two lists into zip object 'paired'\n",
    "paired = zip(titles, plots)\n",
    "\n",
    "# declaring an empty dictionary 'movies'\n",
    "movies = {}\n",
    "\n",
    "# populating the movies dictionary with keys and values\n",
    "for key, value in paired:\n",
    "    movies[key] = value\n",
    "\n",
    "print(movies)    "
   ]
  }
 ],
 "metadata": {
  "kernelspec": {
   "display_name": "Python 3 (ipykernel)",
   "language": "python",
   "name": "python3"
  },
  "language_info": {
   "codemirror_mode": {
    "name": "ipython",
    "version": 3
   },
   "file_extension": ".py",
   "mimetype": "text/x-python",
   "name": "python",
   "nbconvert_exporter": "python",
   "pygments_lexer": "ipython3",
   "version": "3.9.12"
  }
 },
 "nbformat": 4,
 "nbformat_minor": 5
}
