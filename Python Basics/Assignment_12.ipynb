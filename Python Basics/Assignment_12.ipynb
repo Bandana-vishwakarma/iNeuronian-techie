{
 "cells": [
  {
   "cell_type": "markdown",
   "id": "0f6fa2cc",
   "metadata": {},
   "source": [
    "<b>Q.1:</b> In what modes should the PdfFileReader() and PdfFileWriter() File objects will be opened?"
   ]
  },
  {
   "cell_type": "markdown",
   "id": "7dd5927f",
   "metadata": {},
   "source": [
    "<b>Ans:</b>  \n",
    "* PdfFileReader() file objects should be opened in rb (read binary mode).\n",
    "* PdfFileWriter() file objects should be opened in wb (write binary mode)."
   ]
  },
  {
   "cell_type": "markdown",
   "id": "b8bf0d4f",
   "metadata": {},
   "source": [
    "<b>Q.2:</b> From a PdfFileReader object, how do you get a Page object for page 5?"
   ]
  },
  {
   "cell_type": "code",
   "execution_count": 21,
   "id": "4da74e9d",
   "metadata": {},
   "outputs": [],
   "source": [
    "\n",
    "import PyPDF2\n",
    "\n",
    "Pdf = PyPDF2.PdfFileReader('./Progress Report (1).pdf')\n",
    "page_5 = Pdf.getPage(5)"
   ]
  },
  {
   "cell_type": "markdown",
   "id": "2531a403",
   "metadata": {},
   "source": [
    "<b>Q.3:</b> What PdfFileReader variable stores the number of pages in the PDF document?"
   ]
  },
  {
   "cell_type": "markdown",
   "id": "269645fb",
   "metadata": {},
   "source": [
    "<b>Ans:</b>getNumPages() method of PdfFileReader class stores the no pages in a PDF document"
   ]
  },
  {
   "cell_type": "code",
   "execution_count": 23,
   "id": "51202a89",
   "metadata": {
    "scrolled": true
   },
   "outputs": [],
   "source": [
    "page = Pdf.getNumPages()"
   ]
  },
  {
   "cell_type": "code",
   "execution_count": 24,
   "id": "99ea2f0b",
   "metadata": {},
   "outputs": [
    {
     "data": {
      "text/plain": [
       "16"
      ]
     },
     "execution_count": 24,
     "metadata": {},
     "output_type": "execute_result"
    }
   ],
   "source": [
    "page"
   ]
  },
  {
   "cell_type": "markdown",
   "id": "9b896c71",
   "metadata": {},
   "source": [
    "<b>Q.4:</b>  If a PdfFileReader object’s PDF is encrypted with the password swordfish, what must you do before you can obtain Page objects from it?"
   ]
  },
  {
   "cell_type": "markdown",
   "id": "5b235b83",
   "metadata": {},
   "source": [
    "<b>Ans:</b> We will decrypt the PDF file first using the decrypt() function of PdfFileReader class and then will read its content."
   ]
  },
  {
   "cell_type": "markdown",
   "id": "a386ef3f",
   "metadata": {},
   "source": [
    "<b>Q.5:</b> What methods do you use to rotate a page?"
   ]
  },
  {
   "cell_type": "markdown",
   "id": "64743d74",
   "metadata": {},
   "source": [
    "<b>Ans:</b> \n",
    "* rotateClockwise()\n",
    "* rotateCounterClockwise()"
   ]
  },
  {
   "cell_type": "markdown",
   "id": "a44276c7",
   "metadata": {},
   "source": [
    "<b>Q.6:</b> What is the difference between a Run object and a Paragraph object?"
   ]
  },
  {
   "cell_type": "markdown",
   "id": "b45e84df",
   "metadata": {},
   "source": [
    "<b>Ans:</b> A document in python consists of three main data types.\n",
    "\n",
    "* At highest level we have Document object which represents the whole data.\n",
    "\n",
    "* Document object consists of many Paragraph objects for the paragraphs in the document which starts whenever user press enter.\n",
    "\n",
    "* Each line of these Paragraph objects contain many Run objects.\n",
    "\n",
    "A text in document contains many properties like style, colour, font and much more so whenever the style is changed we need Run object for that purpose. "
   ]
  },
  {
   "cell_type": "markdown",
   "id": "7ab71dda",
   "metadata": {},
   "source": [
    "<b>Q.7:</b> What type of object has bold, underline, italic, strike, and outline variables?"
   ]
  },
  {
   "cell_type": "markdown",
   "id": "54f01e0e",
   "metadata": {},
   "source": [
    "<b>Ans:</b> Run object"
   ]
  },
  {
   "cell_type": "markdown",
   "id": "a9fd9904",
   "metadata": {},
   "source": [
    "<b>Q.8:</b> What is the difference between False, True, and None for the bold variable?"
   ]
  },
  {
   "cell_type": "markdown",
   "id": "66519236",
   "metadata": {},
   "source": [
    "<b>Ans:</b> \n",
    "* bold = True Style Set to Bold\n",
    "* bold = False Style Not Set to Bold\n",
    "* bold = None Style is Not Applicable"
   ]
  },
  {
   "cell_type": "markdown",
   "id": "12cae7c9",
   "metadata": {},
   "source": [
    "<b>Q.9:</b> How do you create a Document object for a new Word document?"
   ]
  },
  {
   "cell_type": "code",
   "execution_count": 29,
   "id": "9d913f5d",
   "metadata": {},
   "outputs": [],
   "source": [
    "from docx import Document\n",
    "\n",
    "document = Document()\n"
   ]
  },
  {
   "cell_type": "markdown",
   "id": "b8c874dc",
   "metadata": {},
   "source": [
    "<b>Q.10:</b> How do you add a paragraph with the text 'Hello, there!' to a Document object stored in a variable named doc?"
   ]
  },
  {
   "cell_type": "code",
   "execution_count": 30,
   "id": "13fc6028",
   "metadata": {},
   "outputs": [],
   "source": [
    "from docx import Document\n",
    "\n",
    "doc = Document()\n",
    "\n",
    "\n",
    "doc.add_paragraph('Hello there!')\n",
    "doc.save('./hello.docx')"
   ]
  },
  {
   "cell_type": "markdown",
   "id": "dc36776f",
   "metadata": {},
   "source": [
    "<b>Q.11:</b> What integers represent the levels of headings available in Word documents?"
   ]
  },
  {
   "cell_type": "markdown",
   "id": "c491ff12",
   "metadata": {},
   "source": [
    "<b>Ans:</b> Levels represented using the level attribute of the add_heading() function.\n",
    "\n",
    "The integers which represent these levels are 0, 1, 2, 3, 4 and 5"
   ]
  }
 ],
 "metadata": {
  "kernelspec": {
   "display_name": "Python 3 (ipykernel)",
   "language": "python",
   "name": "python3"
  },
  "language_info": {
   "codemirror_mode": {
    "name": "ipython",
    "version": 3
   },
   "file_extension": ".py",
   "mimetype": "text/x-python",
   "name": "python",
   "nbconvert_exporter": "python",
   "pygments_lexer": "ipython3",
   "version": "3.9.12"
  }
 },
 "nbformat": 4,
 "nbformat_minor": 5
}
