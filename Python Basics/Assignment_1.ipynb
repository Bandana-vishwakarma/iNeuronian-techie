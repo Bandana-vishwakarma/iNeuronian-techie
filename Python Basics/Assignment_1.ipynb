{
 "cells": [
  {
   "cell_type": "markdown",
   "id": "4ea986ff",
   "metadata": {},
   "source": [
    "<b>Qus.1:</b> In the below elements which of them are values or an expression? eg:- values can be integer or string and expressions will be mathematical operators. *, 'hello', -87.8,-, /, +, 6 "
   ]
  },
  {
   "cell_type": "markdown",
   "id": "bdb6dd2c",
   "metadata": {},
   "source": [
    "<b>Ans:</b> \n",
    "\n",
    "* Values: 'hello', -87.8, -, /, +, 6\n",
    "* expressions: *, -, /, +"
   ]
  },
  {
   "cell_type": "markdown",
   "id": "10076047",
   "metadata": {},
   "source": [
    "<b>Qus.2:</b> What is the difference between string and variable?"
   ]
  },
  {
   "cell_type": "markdown",
   "id": "c7001d7c",
   "metadata": {},
   "source": [
    "<b>Ans:</b>\n",
    "\n",
    "* String: It is a python data type\n",
    "\n",
    "* Variable: Variable is a name that can use to store data"
   ]
  },
  {
   "cell_type": "markdown",
   "id": "67f8c5e5",
   "metadata": {},
   "source": [
    "<b>Qus.3:</b>Describe three different data types."
   ]
  },
  {
   "cell_type": "markdown",
   "id": "e9d07471",
   "metadata": {},
   "source": [
    "<b>Ans:</b>\n",
    "\n",
    "* Integer: It is a whole number, positive or negative without a decimal number and fractional part.\n",
    "\n",
    "* Float:A float is a floating-point number, which means it is a number that has a decimal place.\n",
    "\n",
    "* Boolean:  It is used to represent the truth values of the expressions which represents one of the two values i.e. True and False  "
   ]
  },
  {
   "cell_type": "markdown",
   "id": "bca002b4",
   "metadata": {},
   "source": [
    "<b>Qus.4:</b> What is an expression made up of? What do all expressions do?"
   ]
  },
  {
   "cell_type": "markdown",
   "id": "e236d99c",
   "metadata": {},
   "source": [
    "<b>Ans:</b>\n",
    "* An expression is a combination of operators and operands that is interpreted to produce some other value. Example a+b, 5*9\n"
   ]
  },
  {
   "cell_type": "markdown",
   "id": "bb7fd3ec",
   "metadata": {},
   "source": [
    "<b>Qus.5:</b>This assignment statements, like spam = 10. What is the difference between an\n",
    "expression and a statement?"
   ]
  },
  {
   "cell_type": "markdown",
   "id": "a5aab246",
   "metadata": {},
   "source": [
    "<b>Ans:</b>\n",
    "* Expressions: perform the work of a program. Among other things, expressions are used to compute and to assign values to variables and to help control the execution flow of a program.\n",
    "* Statements: are roughly equivalent to sentences in natural languages. A statement forms a complete unit of execution."
   ]
  },
  {
   "cell_type": "markdown",
   "id": "60998304",
   "metadata": {},
   "source": [
    "<b>Qus.6:</b>After running the following code, what does the variable bacon contain?\n",
    "bacon = 22\n",
    "bacon + 1"
   ]
  },
  {
   "cell_type": "code",
   "execution_count": 10,
   "id": "e9457bc3",
   "metadata": {},
   "outputs": [
    {
     "data": {
      "text/plain": [
       "23"
      ]
     },
     "execution_count": 10,
     "metadata": {},
     "output_type": "execute_result"
    }
   ],
   "source": [
    "bacon = 22\n",
    "bacon + 1"
   ]
  },
  {
   "cell_type": "markdown",
   "id": "8abdd6f7",
   "metadata": {},
   "source": [
    "<b>Qus.7:</b>What should the values of the following two terms be?\n",
    "'spam' + 'spamspam'\n",
    "'spam'* 3"
   ]
  },
  {
   "cell_type": "markdown",
   "id": "05dbaebf",
   "metadata": {},
   "source": [
    "<b>Ans:</b>\n",
    "* Both expressions evaluate to the string 'spamspamspam'"
   ]
  },
  {
   "cell_type": "code",
   "execution_count": 11,
   "id": "6679f9c4",
   "metadata": {},
   "outputs": [
    {
     "data": {
      "text/plain": [
       "'spamspamspam'"
      ]
     },
     "execution_count": 11,
     "metadata": {},
     "output_type": "execute_result"
    }
   ],
   "source": [
    "'spam'+'spamspam'"
   ]
  },
  {
   "cell_type": "code",
   "execution_count": 12,
   "id": "d2134aa1",
   "metadata": {},
   "outputs": [
    {
     "data": {
      "text/plain": [
       "'spamspamspam'"
      ]
     },
     "execution_count": 12,
     "metadata": {},
     "output_type": "execute_result"
    }
   ],
   "source": [
    "'spam'* 3"
   ]
  },
  {
   "cell_type": "markdown",
   "id": "86710f74",
   "metadata": {},
   "source": [
    "<b>Qus.8:</b>Why is eggs a valid variable name while 100 is invalid?"
   ]
  },
  {
   "cell_type": "markdown",
   "id": "8022d276",
   "metadata": {},
   "source": [
    "<b>Ans:</b> \n",
    "* According to the python variable rules, variable names can't begin with a number. That's why eggs is valid variable while 100 is invalid. "
   ]
  },
  {
   "cell_type": "markdown",
   "id": "4e75bbb3",
   "metadata": {},
   "source": [
    "<b>Qus.9:</b>What three functions can be used to get the integer, floating-point number, or string\n",
    "version of a value?"
   ]
  },
  {
   "cell_type": "markdown",
   "id": "b34e8577",
   "metadata": {},
   "source": [
    "<b>Ans:</b>\n",
    "* int()\n",
    "* float()\n",
    "* str() "
   ]
  },
  {
   "cell_type": "markdown",
   "id": "a44fd5a1",
   "metadata": {},
   "source": [
    "<b>Qus.9:</b>Why does this expression cause an error? How can you fix it? \n",
    "'I have eaten' + 99 + 'burritos.'"
   ]
  },
  {
   "cell_type": "markdown",
   "id": "8eaca2eb",
   "metadata": {},
   "source": [
    "<b>Ans:</b>\n",
    "* 99 is a integer and integer can't concatenated with the strings only strings can be concatenated to other strings."
   ]
  },
  {
   "cell_type": "code",
   "execution_count": 13,
   "id": "f86705a5",
   "metadata": {},
   "outputs": [
    {
     "ename": "TypeError",
     "evalue": "can only concatenate str (not \"int\") to str",
     "output_type": "error",
     "traceback": [
      "\u001b[1;31m---------------------------------------------------------------------------\u001b[0m",
      "\u001b[1;31mTypeError\u001b[0m                                 Traceback (most recent call last)",
      "Input \u001b[1;32mIn [13]\u001b[0m, in \u001b[0;36m<cell line: 1>\u001b[1;34m()\u001b[0m\n\u001b[1;32m----> 1\u001b[0m \u001b[38;5;124;43m'\u001b[39;49m\u001b[38;5;124;43mI have eaten\u001b[39;49m\u001b[38;5;124;43m'\u001b[39;49m\u001b[43m \u001b[49m\u001b[38;5;241;43m+\u001b[39;49m\u001b[43m \u001b[49m\u001b[38;5;241;43m99\u001b[39;49m \u001b[38;5;241m+\u001b[39m \u001b[38;5;124m'\u001b[39m\u001b[38;5;124mburritos.\u001b[39m\u001b[38;5;124m'\u001b[39m\n",
      "\u001b[1;31mTypeError\u001b[0m: can only concatenate str (not \"int\") to str"
     ]
    }
   ],
   "source": [
    "'I have eaten' + 99 + 'burritos.'"
   ]
  },
  {
   "cell_type": "code",
   "execution_count": 14,
   "id": "f6630fe2",
   "metadata": {},
   "outputs": [
    {
     "data": {
      "text/plain": [
       "'I have eaten99burritos.'"
      ]
     },
     "execution_count": 14,
     "metadata": {},
     "output_type": "execute_result"
    }
   ],
   "source": [
    "'I have eaten' + '99' + 'burritos.'"
   ]
  },
  {
   "cell_type": "code",
   "execution_count": 15,
   "id": "a029ef9e",
   "metadata": {},
   "outputs": [
    {
     "data": {
      "text/plain": [
       "'I have eaten99burritos.'"
      ]
     },
     "execution_count": 15,
     "metadata": {},
     "output_type": "execute_result"
    }
   ],
   "source": [
    "'I have eaten' + str(99) + 'burritos.'"
   ]
  }
 ],
 "metadata": {
  "kernelspec": {
   "display_name": "Python 3 (ipykernel)",
   "language": "python",
   "name": "python3"
  },
  "language_info": {
   "codemirror_mode": {
    "name": "ipython",
    "version": 3
   },
   "file_extension": ".py",
   "mimetype": "text/x-python",
   "name": "python",
   "nbconvert_exporter": "python",
   "pygments_lexer": "ipython3",
   "version": "3.9.12"
  }
 },
 "nbformat": 4,
 "nbformat_minor": 5
}
