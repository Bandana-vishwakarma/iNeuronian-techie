{
 "cells": [
  {
   "cell_type": "markdown",
   "id": "cc55eb40",
   "metadata": {},
   "source": [
    "<b>Qus.1:</b>What does an empty dictionary's code look like?"
   ]
  },
  {
   "cell_type": "code",
   "execution_count": 19,
   "id": "0c8cebd9",
   "metadata": {},
   "outputs": [
    {
     "data": {
      "text/plain": [
       "dict"
      ]
     },
     "execution_count": 19,
     "metadata": {},
     "output_type": "execute_result"
    }
   ],
   "source": [
    "d = {}\n",
    "type(d)"
   ]
  },
  {
   "cell_type": "code",
   "execution_count": 20,
   "id": "db57b9a3",
   "metadata": {},
   "outputs": [
    {
     "data": {
      "text/plain": [
       "dict"
      ]
     },
     "execution_count": 20,
     "metadata": {},
     "output_type": "execute_result"
    }
   ],
   "source": [
    "d1 = dict()\n",
    "type(d1)"
   ]
  },
  {
   "cell_type": "markdown",
   "id": "aaf07ce6",
   "metadata": {},
   "source": [
    "<b>Qus.2:</b>What is the value of a dictionary value with the key 'foo' and the value 42?"
   ]
  },
  {
   "cell_type": "code",
   "execution_count": 21,
   "id": "ab29f3cd",
   "metadata": {},
   "outputs": [
    {
     "data": {
      "text/plain": [
       "42"
      ]
     },
     "execution_count": 21,
     "metadata": {},
     "output_type": "execute_result"
    }
   ],
   "source": [
    "d = {'foo': 42}\n",
    "d['foo']"
   ]
  },
  {
   "cell_type": "markdown",
   "id": "471c4339",
   "metadata": {},
   "source": [
    "<b>Qus.3:</b>What is the most significant distinction between a dictionary and a list?"
   ]
  },
  {
   "cell_type": "markdown",
   "id": "20e472c6",
   "metadata": {},
   "source": [
    "<b>Ans:</b>\n",
    "* Dictionary: A python dictionary is used like a hash table with key as index and object as value. \n",
    "* List: A list is used for holding objects in an array indexed by position of that object in the array."
   ]
  },
  {
   "cell_type": "code",
   "execution_count": 5,
   "id": "c5d455cc",
   "metadata": {},
   "outputs": [],
   "source": [
    "d  = {\"name\" : \"huhuh\", \"age\": 43}\n",
    "l = [1, \"hwll\", 4.5, True]"
   ]
  },
  {
   "cell_type": "markdown",
   "id": "0a52dbd7",
   "metadata": {},
   "source": [
    "<b>Qus.4:</b>What happens if you try to access spam['foo'] if spam is {'bar': 100}?"
   ]
  },
  {
   "cell_type": "markdown",
   "id": "3162322f",
   "metadata": {},
   "source": [
    "<b>Ans:</b>KeyError error."
   ]
  },
  {
   "cell_type": "code",
   "execution_count": 22,
   "id": "a967a908",
   "metadata": {},
   "outputs": [
    {
     "ename": "KeyError",
     "evalue": "'foo'",
     "output_type": "error",
     "traceback": [
      "\u001b[1;31m---------------------------------------------------------------------------\u001b[0m",
      "\u001b[1;31mKeyError\u001b[0m                                  Traceback (most recent call last)",
      "Input \u001b[1;32mIn [22]\u001b[0m, in \u001b[0;36m<cell line: 2>\u001b[1;34m()\u001b[0m\n\u001b[0;32m      1\u001b[0m spam \u001b[38;5;241m=\u001b[39m {\u001b[38;5;124m\"\u001b[39m\u001b[38;5;124mbar\u001b[39m\u001b[38;5;124m\"\u001b[39m:\u001b[38;5;241m100\u001b[39m}\n\u001b[1;32m----> 2\u001b[0m \u001b[43mspam\u001b[49m\u001b[43m[\u001b[49m\u001b[38;5;124;43m'\u001b[39;49m\u001b[38;5;124;43mfoo\u001b[39;49m\u001b[38;5;124;43m'\u001b[39;49m\u001b[43m]\u001b[49m\n",
      "\u001b[1;31mKeyError\u001b[0m: 'foo'"
     ]
    }
   ],
   "source": [
    "spam = {\"bar\":100}\n",
    "spam['foo'] "
   ]
  },
  {
   "cell_type": "markdown",
   "id": "e8c193f7",
   "metadata": {},
   "source": [
    "<b>Qus.5:</b>If a dictionary is stored in spam, what is the difference between the expressions 'cat' in spam and\n",
    "'cat' in spam.keys()?"
   ]
  },
  {
   "cell_type": "markdown",
   "id": "1f99a0cf",
   "metadata": {},
   "source": [
    "<b>Ans:</b>There is no difference."
   ]
  },
  {
   "cell_type": "code",
   "execution_count": 23,
   "id": "97d2a201",
   "metadata": {},
   "outputs": [
    {
     "name": "stdout",
     "output_type": "stream",
     "text": [
      "foo\n",
      "cat\n"
     ]
    }
   ],
   "source": [
    "spam = {'foo': 5, 'cat':6}\n",
    "for cat in spam:\n",
    "    print(cat)"
   ]
  },
  {
   "cell_type": "code",
   "execution_count": 24,
   "id": "cf8f4624",
   "metadata": {},
   "outputs": [
    {
     "name": "stdout",
     "output_type": "stream",
     "text": [
      "foo\n",
      "cat\n"
     ]
    }
   ],
   "source": [
    "for cat in spam.keys():\n",
    "    print(cat)"
   ]
  },
  {
   "cell_type": "markdown",
   "id": "00b31bb5",
   "metadata": {},
   "source": [
    "<b>Qus.6:</b>If a dictionary is stored in spam, what is the difference between the expressions 'cat' in spam and\n",
    "'cat' in spam.values()?"
   ]
  },
  {
   "cell_type": "code",
   "execution_count": 33,
   "id": "e15b8735",
   "metadata": {},
   "outputs": [
    {
     "name": "stdout",
     "output_type": "stream",
     "text": [
      "foo\n",
      "cat\n"
     ]
    }
   ],
   "source": [
    "spam = {'foo': 5, 'cat':6}\n",
    "for cat in spam:\n",
    "    print(cat)"
   ]
  },
  {
   "cell_type": "code",
   "execution_count": 34,
   "id": "cd775b38",
   "metadata": {},
   "outputs": [
    {
     "name": "stdout",
     "output_type": "stream",
     "text": [
      "5\n",
      "6\n"
     ]
    }
   ],
   "source": [
    "for cat in spam.values():\n",
    "    print(cat)"
   ]
  },
  {
   "cell_type": "markdown",
   "id": "4bbcd700",
   "metadata": {},
   "source": [
    "<b>Qus.7:</b>What is a shortcut for the following code?\n",
    "\n",
    "if 'color' not in spam:\n",
    "spam['color'] = 'black'"
   ]
  },
  {
   "cell_type": "code",
   "execution_count": 30,
   "id": "9776a0f3",
   "metadata": {},
   "outputs": [
    {
     "name": "stdout",
     "output_type": "stream",
     "text": [
      "{'foo': 5, 'cat': 6, 'color': 'black'}\n"
     ]
    }
   ],
   "source": [
    "spam = {'foo': 5, 'cat':6}\n",
    "spam['color'] = d.get('color', 'black')\n",
    "print(spam)"
   ]
  },
  {
   "cell_type": "markdown",
   "id": "56f5fcf7",
   "metadata": {},
   "source": [
    "<b>Qus.8:</b>How do you \"pretty print\" dictionary values using which module and function?"
   ]
  },
  {
   "cell_type": "code",
   "execution_count": 32,
   "id": "347ab436",
   "metadata": {},
   "outputs": [
    {
     "name": "stdout",
     "output_type": "stream",
     "text": [
      "{'cat': 6, 'foo': 5}\n"
     ]
    }
   ],
   "source": [
    "import pprint\n",
    "spam = {'foo': 5, 'cat':6}\n",
    "pprint.pprint(spam)"
   ]
  }
 ],
 "metadata": {
  "kernelspec": {
   "display_name": "Python 3 (ipykernel)",
   "language": "python",
   "name": "python3"
  },
  "language_info": {
   "codemirror_mode": {
    "name": "ipython",
    "version": 3
   },
   "file_extension": ".py",
   "mimetype": "text/x-python",
   "name": "python",
   "nbconvert_exporter": "python",
   "pygments_lexer": "ipython3",
   "version": "3.9.12"
  }
 },
 "nbformat": 4,
 "nbformat_minor": 5
}
