{
 "cells": [
  {
   "cell_type": "markdown",
   "id": "aeae69f6",
   "metadata": {},
   "source": [
    "<B>Q.1:</B> Create an assert statement that throws an AssertionError if the variable spam is a negative\n",
    "integer. "
   ]
  },
  {
   "cell_type": "code",
   "execution_count": 1,
   "id": "49c97c97",
   "metadata": {},
   "outputs": [
    {
     "name": "stdout",
     "output_type": "stream",
     "text": [
      "-9\n"
     ]
    },
    {
     "ename": "AssertionError",
     "evalue": "",
     "output_type": "error",
     "traceback": [
      "\u001b[1;31m---------------------------------------------------------------------------\u001b[0m",
      "\u001b[1;31mAssertionError\u001b[0m                            Traceback (most recent call last)",
      "Input \u001b[1;32mIn [1]\u001b[0m, in \u001b[0;36m<cell line: 2>\u001b[1;34m()\u001b[0m\n\u001b[0;32m      1\u001b[0m spam \u001b[38;5;241m=\u001b[39m \u001b[38;5;28mint\u001b[39m(\u001b[38;5;28minput\u001b[39m())\n\u001b[1;32m----> 2\u001b[0m \u001b[38;5;28;01massert\u001b[39;00m spam \u001b[38;5;241m>\u001b[39m \u001b[38;5;241m0\u001b[39m\n",
      "\u001b[1;31mAssertionError\u001b[0m: "
     ]
    }
   ],
   "source": [
    "spam = int(input())\n",
    "assert spam > 0"
   ]
  },
  {
   "cell_type": "markdown",
   "id": "b7c0953d",
   "metadata": {},
   "source": [
    "<b>Q.2:</b> Write an assert statement that triggers an AssertionError if the variables eggs and bacon contain\n",
    "strings that are the same as each other, even if their cases are different (that is, 'hello' and 'hello' are\n",
    "considered the same, and 'goodbye' and 'GOODbye' are also considered the same)."
   ]
  },
  {
   "cell_type": "code",
   "execution_count": 2,
   "id": "26472575",
   "metadata": {},
   "outputs": [],
   "source": [
    "def assertTester(eggs, bacon):\n",
    "    assert eggs.lower() == bacon.lower(), 'Eggs and bacon are not same'\n",
    "    print('Eggs and bacon are same')\n"
   ]
  },
  {
   "cell_type": "code",
   "execution_count": 4,
   "id": "8b69758a",
   "metadata": {},
   "outputs": [
    {
     "name": "stdout",
     "output_type": "stream",
     "text": [
      "Eggs and bacon are same\n"
     ]
    }
   ],
   "source": [
    "assertTester('HELLO', 'hello')"
   ]
  },
  {
   "cell_type": "code",
   "execution_count": 7,
   "id": "89de2f66",
   "metadata": {},
   "outputs": [
    {
     "name": "stdout",
     "output_type": "stream",
     "text": [
      "Eggs and bacon are same\n"
     ]
    }
   ],
   "source": [
    "assertTester('hello', 'HELLO')   "
   ]
  },
  {
   "cell_type": "markdown",
   "id": "ddedb746",
   "metadata": {},
   "source": [
    "<b>Q.3:</b> Create an assert statement that throws an AssertionError every time."
   ]
  },
  {
   "cell_type": "code",
   "execution_count": 8,
   "id": "d5dbcbc7",
   "metadata": {},
   "outputs": [
    {
     "ename": "AssertionError",
     "evalue": "Their is a assertion error",
     "output_type": "error",
     "traceback": [
      "\u001b[1;31m---------------------------------------------------------------------------\u001b[0m",
      "\u001b[1;31mAssertionError\u001b[0m                            Traceback (most recent call last)",
      "Input \u001b[1;32mIn [8]\u001b[0m, in \u001b[0;36m<cell line: 1>\u001b[1;34m()\u001b[0m\n\u001b[1;32m----> 1\u001b[0m \u001b[38;5;28;01massert\u001b[39;00m \u001b[38;5;28;01mFalse\u001b[39;00m, \u001b[38;5;124m'\u001b[39m\u001b[38;5;124mTheir is a assertion error\u001b[39m\u001b[38;5;124m'\u001b[39m\n\u001b[0;32m      2\u001b[0m \u001b[38;5;28mprint\u001b[39m(\u001b[38;5;124m\"\u001b[39m\u001b[38;5;124mTheir is no any assertion error\u001b[39m\u001b[38;5;124m\"\u001b[39m)\n",
      "\u001b[1;31mAssertionError\u001b[0m: Their is a assertion error"
     ]
    }
   ],
   "source": [
    "assert False, 'Their is a assertion error'\n",
    "print(\"Their is no any assertion error\")"
   ]
  },
  {
   "cell_type": "code",
   "execution_count": 9,
   "id": "4e328849",
   "metadata": {},
   "outputs": [
    {
     "ename": "AssertionError",
     "evalue": "Invalid Operation",
     "output_type": "error",
     "traceback": [
      "\u001b[1;31m---------------------------------------------------------------------------\u001b[0m",
      "\u001b[1;31mAssertionError\u001b[0m                            Traceback (most recent call last)",
      "Input \u001b[1;32mIn [9]\u001b[0m, in \u001b[0;36m<cell line: 3>\u001b[1;34m()\u001b[0m\n\u001b[0;32m      1\u001b[0m x \u001b[38;5;241m=\u001b[39m \u001b[38;5;241m1\u001b[39m\n\u001b[0;32m      2\u001b[0m y \u001b[38;5;241m=\u001b[39m \u001b[38;5;241m0\u001b[39m\n\u001b[1;32m----> 3\u001b[0m \u001b[38;5;28;01massert\u001b[39;00m y \u001b[38;5;241m!=\u001b[39m \u001b[38;5;241m0\u001b[39m, \u001b[38;5;124m'\u001b[39m\u001b[38;5;124mInvalid Operation\u001b[39m\u001b[38;5;124m'\u001b[39m\n\u001b[0;32m      4\u001b[0m \u001b[38;5;28mprint\u001b[39m(x\u001b[38;5;241m/\u001b[39my)\n",
      "\u001b[1;31mAssertionError\u001b[0m: Invalid Operation"
     ]
    }
   ],
   "source": [
    "x = 1\n",
    "y = 0\n",
    "assert y != 0, 'Invalid Operation'\n",
    "print(x/y)"
   ]
  },
  {
   "cell_type": "markdown",
   "id": "e6d464ac",
   "metadata": {},
   "source": [
    "<b>Q.4:</b> What are the two lines that must be present in your software in order to call logging.debug()? "
   ]
  },
  {
   "cell_type": "markdown",
   "id": "cca2909b",
   "metadata": {},
   "source": [
    "<b>Ans:</b>\n",
    "* import logging and import ipdb (if it is jupyter notebook)\n",
    "* lg.basicConfig(filename='test.log', level = lg.INFO, format='%(asctime)s %(levelname)s %(message)s')"
   ]
  },
  {
   "cell_type": "markdown",
   "id": "d42f63f4",
   "metadata": {},
   "source": [
    "<b>Q.5:</b> What are the two lines that your program must have in order to have logging.debug() send a\n",
    "logging message to a file named programLog.txt?"
   ]
  },
  {
   "cell_type": "markdown",
   "id": "737f1886",
   "metadata": {},
   "source": [
    "<b>Ans:</b>\n",
    "* import logging\n",
    "* lg.basicConfig(filename='programLog.log', level = lg.INFO, format='%(asctime)s %(levelname)s %(message)s')"
   ]
  },
  {
   "cell_type": "markdown",
   "id": "8788a74e",
   "metadata": {},
   "source": [
    "<b>Q.6:</b> What are the various logging level? "
   ]
  },
  {
   "cell_type": "markdown",
   "id": "40ee33ec",
   "metadata": {},
   "source": [
    "<b>Ans:</b> \n",
    "* logging.debug() - variable's state and small details\n",
    "* logging.info() - general events, confirm a program is working\n",
    "* logging.warning() - potential problem to work on in the future\n",
    "* logging.error() - record an error that caused program to fail to do something\n",
    "* logging.critical() - fatal error that has caused"
   ]
  },
  {
   "cell_type": "markdown",
   "id": "3be6efc5",
   "metadata": {},
   "source": [
    "<b>Q.7:</b> What line of code would you add to your software to disable all logging messages?"
   ]
  },
  {
   "cell_type": "markdown",
   "id": "1d9f977f",
   "metadata": {},
   "source": [
    "<b>Ans:</b> logging.disable(logging.DEBUG) "
   ]
  },
  {
   "cell_type": "markdown",
   "id": "ade05176",
   "metadata": {},
   "source": [
    "<b>Q.8:</b> Why is using logging messages better than using print() to display the same message?"
   ]
  },
  {
   "cell_type": "markdown",
   "id": "75d52c2c",
   "metadata": {},
   "source": [
    "<b>Ans:</b> \n",
    "* Easier to debug\n",
    "* we can save the log data either in a file or in a data base for further debugging\n",
    "* more info about a specific type or issue can be returned\n",
    "* categorization of error comes in handy"
   ]
  },
  {
   "cell_type": "markdown",
   "id": "3c2b58ee",
   "metadata": {},
   "source": [
    "<b>Q.9:</b> What are the differences between the Step Over, Step In, and Step Out buttons in the debugger?"
   ]
  },
  {
   "cell_type": "markdown",
   "id": "78a113b3",
   "metadata": {},
   "source": [
    "<b>Ans:</b>\n",
    "* Step in : one line execution at a time\n",
    "* Step Over : execute the next line of code, but if it is a program, it will complete the entire function call.\n",
    "* Step out : execute the lines of code until it returns from the current function. (out is useful when you stepped into a function call)."
   ]
  },
  {
   "cell_type": "markdown",
   "id": "72bae9ef",
   "metadata": {},
   "source": [
    "<b>Q.10:</b> After you click Continue, when will the debugger stop ? "
   ]
  },
  {
   "cell_type": "markdown",
   "id": "b769f2b9",
   "metadata": {},
   "source": [
    "<b>Ans:</b> until the program terminates or breakpoint reached"
   ]
  },
  {
   "cell_type": "markdown",
   "id": "0af2faa0",
   "metadata": {},
   "source": [
    "<b>Q.11:</b> What is the concept of a breakpoint? "
   ]
  },
  {
   "cell_type": "markdown",
   "id": "e3b13b61",
   "metadata": {},
   "source": [
    "<b>Ans:</b> By right clicking any line in the IDE while the debugger is on marks that line as a point where the execution of the code pauses till user resumes its execution manually."
   ]
  }
 ],
 "metadata": {
  "kernelspec": {
   "display_name": "Python 3 (ipykernel)",
   "language": "python",
   "name": "python3"
  },
  "language_info": {
   "codemirror_mode": {
    "name": "ipython",
    "version": 3
   },
   "file_extension": ".py",
   "mimetype": "text/x-python",
   "name": "python",
   "nbconvert_exporter": "python",
   "pygments_lexer": "ipython3",
   "version": "3.9.12"
  }
 },
 "nbformat": 4,
 "nbformat_minor": 5
}
